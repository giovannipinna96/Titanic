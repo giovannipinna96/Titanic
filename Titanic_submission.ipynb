{
 "cells": [
  {
   "cell_type": "markdown",
   "metadata": {
    "collapsed": true,
    "pycharm": {
     "name": "#%% md\n"
    }
   },
   "source": [
    "# Titanic submission"
   ]
  },
  {
   "cell_type": "code",
   "execution_count": 1,
   "outputs": [],
   "source": [
    "from pandas.core.common import SettingWithCopyWarning\n",
    "import warnings\n",
    "from tensorflow import keras\n",
    "import utils\n",
    "import pandas as pd\n",
    "\n",
    "warnings.filterwarnings(\"ignore\", category=SettingWithCopyWarning)"
   ],
   "metadata": {
    "collapsed": false,
    "pycharm": {
     "name": "#%%\n"
    }
   }
  },
  {
   "cell_type": "code",
   "execution_count": 2,
   "outputs": [],
   "source": [
    "from loadDataUtils import loadDataUtils"
   ],
   "metadata": {
    "collapsed": false,
    "pycharm": {
     "name": "#%%\n"
    }
   }
  },
  {
   "cell_type": "code",
   "execution_count": 3,
   "outputs": [],
   "source": [
    "path_train = r'C:\\Users\\39320\\Desktop\\myProjects_python\\Titanic\\data\\train.csv'\n",
    "path_test = r'C:\\Users\\39320\\Desktop\\myProjects_python\\Titanic\\data\\test.csv'\n",
    "data = loadDataUtils(path_train, path_test)"
   ],
   "metadata": {
    "collapsed": false,
    "pycharm": {
     "name": "#%%\n"
    }
   }
  },
  {
   "cell_type": "code",
   "execution_count": 4,
   "outputs": [],
   "source": [
    "df_train, df_test = data.get_train_and_test()"
   ],
   "metadata": {
    "collapsed": false,
    "pycharm": {
     "name": "#%%\n"
    }
   }
  },
  {
   "cell_type": "markdown",
   "source": [
    "### Clean data"
   ],
   "metadata": {
    "collapsed": false
   }
  },
  {
   "cell_type": "code",
   "execution_count": 5,
   "outputs": [],
   "source": [
    "from titanicPreprocessing import preprocess"
   ],
   "metadata": {
    "collapsed": false,
    "pycharm": {
     "name": "#%%\n"
    }
   }
  },
  {
   "cell_type": "code",
   "execution_count": 6,
   "outputs": [],
   "source": [
    "p = preprocess(df_train.copy(), df_test.copy())\n",
    "p.do_preprocess()"
   ],
   "metadata": {
    "collapsed": false,
    "pycharm": {
     "name": "#%%\n"
    }
   }
  },
  {
   "cell_type": "code",
   "execution_count": 7,
   "outputs": [],
   "source": [
    "train, test = p.get_data()"
   ],
   "metadata": {
    "collapsed": false,
    "pycharm": {
     "name": "#%%\n"
    }
   }
  },
  {
   "cell_type": "code",
   "execution_count": 8,
   "outputs": [],
   "source": [
    "train_target = train['Survived']\n",
    "train.drop(columns=['Survived'], inplace=True)"
   ],
   "metadata": {
    "collapsed": false,
    "pycharm": {
     "name": "#%%\n"
    }
   }
  },
  {
   "cell_type": "code",
   "execution_count": 9,
   "outputs": [
    {
     "name": "stdout",
     "output_type": "stream",
     "text": [
      "<class 'pandas.core.frame.DataFrame'>\n",
      "Int64Index: 889 entries, 0 to 890\n",
      "Data columns (total 28 columns):\n",
      " #   Column             Non-Null Count  Dtype  \n",
      "---  ------             --------------  -----  \n",
      " 0   PassengerId        889 non-null    int64  \n",
      " 1   Pclass             889 non-null    int64  \n",
      " 2   Age                889 non-null    float64\n",
      " 3   SibSp              889 non-null    int64  \n",
      " 4   Parch              889 non-null    int64  \n",
      " 5   Fare               889 non-null    float64\n",
      " 6   cabin_multiple     889 non-null    int64  \n",
      " 7   Sex_female         889 non-null    uint8  \n",
      " 8   Sex_male           889 non-null    uint8  \n",
      " 9   Embarked_C         889 non-null    uint8  \n",
      " 10  Embarked_Q         889 non-null    uint8  \n",
      " 11  Embarked_S         889 non-null    uint8  \n",
      " 12  cabin_letter_0     889 non-null    uint8  \n",
      " 13  cabin_letter_A     889 non-null    uint8  \n",
      " 14  cabin_letter_B     889 non-null    uint8  \n",
      " 15  cabin_letter_C     889 non-null    uint8  \n",
      " 16  cabin_letter_D     889 non-null    uint8  \n",
      " 17  cabin_letter_E     889 non-null    uint8  \n",
      " 18  cabin_letter_F     889 non-null    uint8  \n",
      " 19  cabin_letter_G     889 non-null    uint8  \n",
      " 20  cabin_letter_T     889 non-null    uint8  \n",
      " 21  name_title_Dr      889 non-null    uint8  \n",
      " 22  name_title_Master  889 non-null    uint8  \n",
      " 23  name_title_Miss    889 non-null    uint8  \n",
      " 24  name_title_Mr      889 non-null    uint8  \n",
      " 25  name_title_Mrs     889 non-null    uint8  \n",
      " 26  name_title_Rare    889 non-null    uint8  \n",
      " 27  name_title_Rev     889 non-null    uint8  \n",
      "dtypes: float64(2), int64(5), uint8(21)\n",
      "memory usage: 106.1 KB\n"
     ]
    }
   ],
   "source": [
    "train.info()"
   ],
   "metadata": {
    "collapsed": false,
    "pycharm": {
     "name": "#%%\n"
    }
   }
  },
  {
   "cell_type": "code",
   "execution_count": 12,
   "outputs": [],
   "source": [
    "test['cabin_letter_T'] = 0"
   ],
   "metadata": {
    "collapsed": false,
    "pycharm": {
     "name": "#%%\n"
    }
   }
  },
  {
   "cell_type": "code",
   "execution_count": 13,
   "outputs": [
    {
     "name": "stdout",
     "output_type": "stream",
     "text": [
      "<class 'pandas.core.frame.DataFrame'>\n",
      "RangeIndex: 418 entries, 0 to 417\n",
      "Data columns (total 28 columns):\n",
      " #   Column             Non-Null Count  Dtype  \n",
      "---  ------             --------------  -----  \n",
      " 0   PassengerId        418 non-null    int64  \n",
      " 1   Pclass             418 non-null    int64  \n",
      " 2   Age                418 non-null    float64\n",
      " 3   SibSp              418 non-null    int64  \n",
      " 4   Parch              418 non-null    int64  \n",
      " 5   Fare               418 non-null    float64\n",
      " 6   cabin_multiple     418 non-null    int64  \n",
      " 7   Sex_female         418 non-null    uint8  \n",
      " 8   Sex_male           418 non-null    uint8  \n",
      " 9   Embarked_C         418 non-null    uint8  \n",
      " 10  Embarked_Q         418 non-null    uint8  \n",
      " 11  Embarked_S         418 non-null    uint8  \n",
      " 12  cabin_letter_0     418 non-null    uint8  \n",
      " 13  cabin_letter_A     418 non-null    uint8  \n",
      " 14  cabin_letter_B     418 non-null    uint8  \n",
      " 15  cabin_letter_C     418 non-null    uint8  \n",
      " 16  cabin_letter_D     418 non-null    uint8  \n",
      " 17  cabin_letter_E     418 non-null    uint8  \n",
      " 18  cabin_letter_F     418 non-null    uint8  \n",
      " 19  cabin_letter_G     418 non-null    uint8  \n",
      " 20  name_title_Dr      418 non-null    uint8  \n",
      " 21  name_title_Master  418 non-null    uint8  \n",
      " 22  name_title_Miss    418 non-null    uint8  \n",
      " 23  name_title_Mr      418 non-null    uint8  \n",
      " 24  name_title_Mrs     418 non-null    uint8  \n",
      " 25  name_title_Rare    418 non-null    uint8  \n",
      " 26  name_title_Rev     418 non-null    uint8  \n",
      " 27  cabin_letter_T     418 non-null    int64  \n",
      "dtypes: float64(2), int64(6), uint8(20)\n",
      "memory usage: 34.4 KB\n"
     ]
    }
   ],
   "source": [
    "test.info()"
   ],
   "metadata": {
    "collapsed": false,
    "pycharm": {
     "name": "#%%\n"
    }
   }
  },
  {
   "cell_type": "markdown",
   "source": [
    "## Load pickle"
   ],
   "metadata": {
    "collapsed": false,
    "pycharm": {
     "name": "#%% md\n"
    }
   }
  },
  {
   "cell_type": "code",
   "execution_count": 15,
   "outputs": [],
   "source": [
    "pickle = utils.load_pickle_obj('./save_best_model/pickle_best_models')"
   ],
   "metadata": {
    "collapsed": false,
    "pycharm": {
     "name": "#%%\n"
    }
   }
  },
  {
   "cell_type": "code",
   "execution_count": 16,
   "outputs": [],
   "source": [
    "svc_best = pickle[0]\n",
    "xgb_best = pickle[1]\n",
    "voting_clf_best = pickle[2]\n",
    "\n",
    "model = keras.models.load_model(\"./save_best_model_pickle/keras_classifier2\")"
   ],
   "metadata": {
    "collapsed": false,
    "pycharm": {
     "name": "#%%\n"
    }
   }
  },
  {
   "cell_type": "code",
   "execution_count": 17,
   "outputs": [
    {
     "name": "stdout",
     "output_type": "stream",
     "text": [
      "Model: \"sequential_1\"\n",
      "_________________________________________________________________\n",
      " Layer (type)                Output Shape              Param #   \n",
      "=================================================================\n",
      " dense_4 (Dense)             (None, 16)                448       \n",
      "                                                                 \n",
      " dense_5 (Dense)             (None, 6)                 102       \n",
      "                                                                 \n",
      " dense_6 (Dense)             (None, 1)                 7         \n",
      "                                                                 \n",
      "=================================================================\n",
      "Total params: 557\n",
      "Trainable params: 557\n",
      "Non-trainable params: 0\n",
      "_________________________________________________________________\n"
     ]
    }
   ],
   "source": [
    "model.summary()"
   ],
   "metadata": {
    "collapsed": false,
    "pycharm": {
     "name": "#%%\n"
    }
   }
  },
  {
   "cell_type": "markdown",
   "source": [
    "### fit on all train data"
   ],
   "metadata": {
    "collapsed": false,
    "pycharm": {
     "name": "#%% md\n"
    }
   }
  },
  {
   "cell_type": "code",
   "execution_count": 18,
   "outputs": [
    {
     "name": "stdout",
     "output_type": "stream",
     "text": [
      "[12:27:20] WARNING: C:/Users/Administrator/workspace/xgboost-win64_release_1.6.0/src/learner.cc:627: \n",
      "Parameters: { \"colsample_bytre\" } might not be used.\n",
      "\n",
      "  This could be a false alarm, with some parameters getting used by language bindings but\n",
      "  then being mistakenly passed down to XGBoost core, or some parameter actually being used\n",
      "  but getting flagged wrongly here. Please open an issue if you find any such cases.\n",
      "\n",
      "\n",
      "Epoch 1/25\n",
      "28/28 [==============================] - 0s 2ms/step - loss: 0.4141 - accuracy: 0.8313\n",
      "Epoch 2/25\n",
      "28/28 [==============================] - 0s 1ms/step - loss: 0.4113 - accuracy: 0.8324\n",
      "Epoch 3/25\n",
      "28/28 [==============================] - 0s 1ms/step - loss: 0.4114 - accuracy: 0.8313\n",
      "Epoch 4/25\n",
      "28/28 [==============================] - 0s 1ms/step - loss: 0.4104 - accuracy: 0.8313\n",
      "Epoch 5/25\n",
      "28/28 [==============================] - 0s 1ms/step - loss: 0.4095 - accuracy: 0.8335\n",
      "Epoch 6/25\n",
      "28/28 [==============================] - 0s 1ms/step - loss: 0.4096 - accuracy: 0.8290\n",
      "Epoch 7/25\n",
      "28/28 [==============================] - 0s 1ms/step - loss: 0.4096 - accuracy: 0.8358\n",
      "Epoch 8/25\n",
      "28/28 [==============================] - 0s 1ms/step - loss: 0.4073 - accuracy: 0.8358\n",
      "Epoch 9/25\n",
      "28/28 [==============================] - 0s 1ms/step - loss: 0.4062 - accuracy: 0.8346\n",
      "Epoch 10/25\n",
      "28/28 [==============================] - 0s 1ms/step - loss: 0.4068 - accuracy: 0.8358\n",
      "Epoch 11/25\n",
      "28/28 [==============================] - 0s 1ms/step - loss: 0.4055 - accuracy: 0.8369\n",
      "Epoch 12/25\n",
      "28/28 [==============================] - 0s 1ms/step - loss: 0.4056 - accuracy: 0.8313\n",
      "Epoch 13/25\n",
      "28/28 [==============================] - 0s 1ms/step - loss: 0.4047 - accuracy: 0.8324\n",
      "Epoch 14/25\n",
      "28/28 [==============================] - 0s 1ms/step - loss: 0.4039 - accuracy: 0.8358\n",
      "Epoch 15/25\n",
      "28/28 [==============================] - 0s 1ms/step - loss: 0.4036 - accuracy: 0.8358\n",
      "Epoch 16/25\n",
      "28/28 [==============================] - 0s 1ms/step - loss: 0.4035 - accuracy: 0.8380\n",
      "Epoch 17/25\n",
      "28/28 [==============================] - 0s 1ms/step - loss: 0.4030 - accuracy: 0.8346\n",
      "Epoch 18/25\n",
      "28/28 [==============================] - 0s 1ms/step - loss: 0.4036 - accuracy: 0.8369\n",
      "Epoch 19/25\n",
      "28/28 [==============================] - 0s 1ms/step - loss: 0.4033 - accuracy: 0.8346\n",
      "Epoch 20/25\n",
      "28/28 [==============================] - 0s 1ms/step - loss: 0.4015 - accuracy: 0.8369\n",
      "Epoch 21/25\n",
      "28/28 [==============================] - 0s 1ms/step - loss: 0.4014 - accuracy: 0.8369\n",
      "Epoch 22/25\n",
      "28/28 [==============================] - 0s 1ms/step - loss: 0.4022 - accuracy: 0.8346\n",
      "Epoch 23/25\n",
      "28/28 [==============================] - 0s 1ms/step - loss: 0.4010 - accuracy: 0.8358\n",
      "Epoch 24/25\n",
      "28/28 [==============================] - 0s 1ms/step - loss: 0.4007 - accuracy: 0.8369\n",
      "Epoch 25/25\n",
      "28/28 [==============================] - 0s 1ms/step - loss: 0.4011 - accuracy: 0.8369\n"
     ]
    },
    {
     "data": {
      "text/plain": "<keras.callbacks.History at 0x20f4a95a320>"
     },
     "execution_count": 18,
     "metadata": {},
     "output_type": "execute_result"
    }
   ],
   "source": [
    "svc_best.fit(train.loc[:, train.columns != 'PassengerId'], train_target)\n",
    "xgb_best.fit(train.loc[:, train.columns != 'PassengerId'], train_target)\n",
    "voting_clf_best.fit(train.loc[:, train.columns != 'PassengerId'], train_target)\n",
    "model.fit(train.loc[:, train.columns != 'PassengerId'], train_target, epochs =25)"
   ],
   "metadata": {
    "collapsed": false,
    "pycharm": {
     "name": "#%%\n"
    }
   }
  },
  {
   "cell_type": "code",
   "execution_count": 20,
   "outputs": [
    {
     "name": "stderr",
     "output_type": "stream",
     "text": [
      "C:\\Users\\39320\\Desktop\\myProjects_python\\Titanic\\venvimg\\lib\\site-packages\\sklearn\\base.py:493: FutureWarning: The feature names should match those that were passed during fit. Starting version 1.2, an error will be raised.\n",
      "Feature names must be in the same order as they were in fit.\n",
      "\n",
      "  warnings.warn(message, FutureWarning)\n"
     ]
    },
    {
     "ename": "ValueError",
     "evalue": "Input contains NaN, infinity or a value too large for dtype('float64').",
     "output_type": "error",
     "traceback": [
      "\u001B[1;31m---------------------------------------------------------------------------\u001B[0m",
      "\u001B[1;31mValueError\u001B[0m                                Traceback (most recent call last)",
      "Input \u001B[1;32mIn [20]\u001B[0m, in \u001B[0;36m<cell line: 1>\u001B[1;34m()\u001B[0m\n\u001B[1;32m----> 1\u001B[0m y_hat_svc_best \u001B[38;5;241m=\u001B[39m \u001B[43msvc_best\u001B[49m\u001B[38;5;241;43m.\u001B[39;49m\u001B[43mpredict\u001B[49m\u001B[43m(\u001B[49m\u001B[43mtest\u001B[49m\u001B[38;5;241;43m.\u001B[39;49m\u001B[43mloc\u001B[49m\u001B[43m[\u001B[49m\u001B[43m:\u001B[49m\u001B[43m,\u001B[49m\u001B[43m \u001B[49m\u001B[43mtest\u001B[49m\u001B[38;5;241;43m.\u001B[39;49m\u001B[43mcolumns\u001B[49m\u001B[43m \u001B[49m\u001B[38;5;241;43m!=\u001B[39;49m\u001B[43m \u001B[49m\u001B[38;5;124;43m'\u001B[39;49m\u001B[38;5;124;43mPassengerId\u001B[39;49m\u001B[38;5;124;43m'\u001B[39;49m\u001B[43m]\u001B[49m\u001B[43m)\u001B[49m\n\u001B[0;32m      2\u001B[0m y_hat_xgb_best \u001B[38;5;241m=\u001B[39m xgb_best\u001B[38;5;241m.\u001B[39mpredict(test\u001B[38;5;241m.\u001B[39mloc[:, test\u001B[38;5;241m.\u001B[39mcolumns \u001B[38;5;241m!=\u001B[39m \u001B[38;5;124m'\u001B[39m\u001B[38;5;124mPassengerId\u001B[39m\u001B[38;5;124m'\u001B[39m])\n\u001B[0;32m      3\u001B[0m y_hat_voting_clf_best \u001B[38;5;241m=\u001B[39m voting_clf_best\u001B[38;5;241m.\u001B[39mpredict(test\u001B[38;5;241m.\u001B[39mloc[:, test\u001B[38;5;241m.\u001B[39mcolumns \u001B[38;5;241m!=\u001B[39m \u001B[38;5;124m'\u001B[39m\u001B[38;5;124mPassengerId\u001B[39m\u001B[38;5;124m'\u001B[39m])\n",
      "File \u001B[1;32m~\\Desktop\\myProjects_python\\Titanic\\venvimg\\lib\\site-packages\\sklearn\\svm\\_base.py:791\u001B[0m, in \u001B[0;36mBaseSVC.predict\u001B[1;34m(self, X)\u001B[0m\n\u001B[0;32m    789\u001B[0m     y \u001B[38;5;241m=\u001B[39m np\u001B[38;5;241m.\u001B[39margmax(\u001B[38;5;28mself\u001B[39m\u001B[38;5;241m.\u001B[39mdecision_function(X), axis\u001B[38;5;241m=\u001B[39m\u001B[38;5;241m1\u001B[39m)\n\u001B[0;32m    790\u001B[0m \u001B[38;5;28;01melse\u001B[39;00m:\n\u001B[1;32m--> 791\u001B[0m     y \u001B[38;5;241m=\u001B[39m \u001B[38;5;28;43msuper\u001B[39;49m\u001B[43m(\u001B[49m\u001B[43m)\u001B[49m\u001B[38;5;241;43m.\u001B[39;49m\u001B[43mpredict\u001B[49m\u001B[43m(\u001B[49m\u001B[43mX\u001B[49m\u001B[43m)\u001B[49m\n\u001B[0;32m    792\u001B[0m \u001B[38;5;28;01mreturn\u001B[39;00m \u001B[38;5;28mself\u001B[39m\u001B[38;5;241m.\u001B[39mclasses_\u001B[38;5;241m.\u001B[39mtake(np\u001B[38;5;241m.\u001B[39masarray(y, dtype\u001B[38;5;241m=\u001B[39mnp\u001B[38;5;241m.\u001B[39mintp))\n",
      "File \u001B[1;32m~\\Desktop\\myProjects_python\\Titanic\\venvimg\\lib\\site-packages\\sklearn\\svm\\_base.py:414\u001B[0m, in \u001B[0;36mBaseLibSVM.predict\u001B[1;34m(self, X)\u001B[0m\n\u001B[0;32m    398\u001B[0m \u001B[38;5;28;01mdef\u001B[39;00m \u001B[38;5;21mpredict\u001B[39m(\u001B[38;5;28mself\u001B[39m, X):\n\u001B[0;32m    399\u001B[0m     \u001B[38;5;124;03m\"\"\"Perform regression on samples in X.\u001B[39;00m\n\u001B[0;32m    400\u001B[0m \n\u001B[0;32m    401\u001B[0m \u001B[38;5;124;03m    For an one-class model, +1 (inlier) or -1 (outlier) is returned.\u001B[39;00m\n\u001B[1;32m   (...)\u001B[0m\n\u001B[0;32m    412\u001B[0m \u001B[38;5;124;03m        The predicted values.\u001B[39;00m\n\u001B[0;32m    413\u001B[0m \u001B[38;5;124;03m    \"\"\"\u001B[39;00m\n\u001B[1;32m--> 414\u001B[0m     X \u001B[38;5;241m=\u001B[39m \u001B[38;5;28;43mself\u001B[39;49m\u001B[38;5;241;43m.\u001B[39;49m\u001B[43m_validate_for_predict\u001B[49m\u001B[43m(\u001B[49m\u001B[43mX\u001B[49m\u001B[43m)\u001B[49m\n\u001B[0;32m    415\u001B[0m     predict \u001B[38;5;241m=\u001B[39m \u001B[38;5;28mself\u001B[39m\u001B[38;5;241m.\u001B[39m_sparse_predict \u001B[38;5;28;01mif\u001B[39;00m \u001B[38;5;28mself\u001B[39m\u001B[38;5;241m.\u001B[39m_sparse \u001B[38;5;28;01melse\u001B[39;00m \u001B[38;5;28mself\u001B[39m\u001B[38;5;241m.\u001B[39m_dense_predict\n\u001B[0;32m    416\u001B[0m     \u001B[38;5;28;01mreturn\u001B[39;00m predict(X)\n",
      "File \u001B[1;32m~\\Desktop\\myProjects_python\\Titanic\\venvimg\\lib\\site-packages\\sklearn\\svm\\_base.py:592\u001B[0m, in \u001B[0;36mBaseLibSVM._validate_for_predict\u001B[1;34m(self, X)\u001B[0m\n\u001B[0;32m    589\u001B[0m check_is_fitted(\u001B[38;5;28mself\u001B[39m)\n\u001B[0;32m    591\u001B[0m \u001B[38;5;28;01mif\u001B[39;00m \u001B[38;5;129;01mnot\u001B[39;00m callable(\u001B[38;5;28mself\u001B[39m\u001B[38;5;241m.\u001B[39mkernel):\n\u001B[1;32m--> 592\u001B[0m     X \u001B[38;5;241m=\u001B[39m \u001B[38;5;28;43mself\u001B[39;49m\u001B[38;5;241;43m.\u001B[39;49m\u001B[43m_validate_data\u001B[49m\u001B[43m(\u001B[49m\n\u001B[0;32m    593\u001B[0m \u001B[43m        \u001B[49m\u001B[43mX\u001B[49m\u001B[43m,\u001B[49m\n\u001B[0;32m    594\u001B[0m \u001B[43m        \u001B[49m\u001B[43maccept_sparse\u001B[49m\u001B[38;5;241;43m=\u001B[39;49m\u001B[38;5;124;43m\"\u001B[39;49m\u001B[38;5;124;43mcsr\u001B[39;49m\u001B[38;5;124;43m\"\u001B[39;49m\u001B[43m,\u001B[49m\n\u001B[0;32m    595\u001B[0m \u001B[43m        \u001B[49m\u001B[43mdtype\u001B[49m\u001B[38;5;241;43m=\u001B[39;49m\u001B[43mnp\u001B[49m\u001B[38;5;241;43m.\u001B[39;49m\u001B[43mfloat64\u001B[49m\u001B[43m,\u001B[49m\n\u001B[0;32m    596\u001B[0m \u001B[43m        \u001B[49m\u001B[43morder\u001B[49m\u001B[38;5;241;43m=\u001B[39;49m\u001B[38;5;124;43m\"\u001B[39;49m\u001B[38;5;124;43mC\u001B[39;49m\u001B[38;5;124;43m\"\u001B[39;49m\u001B[43m,\u001B[49m\n\u001B[0;32m    597\u001B[0m \u001B[43m        \u001B[49m\u001B[43maccept_large_sparse\u001B[49m\u001B[38;5;241;43m=\u001B[39;49m\u001B[38;5;28;43;01mFalse\u001B[39;49;00m\u001B[43m,\u001B[49m\n\u001B[0;32m    598\u001B[0m \u001B[43m        \u001B[49m\u001B[43mreset\u001B[49m\u001B[38;5;241;43m=\u001B[39;49m\u001B[38;5;28;43;01mFalse\u001B[39;49;00m\u001B[43m,\u001B[49m\n\u001B[0;32m    599\u001B[0m \u001B[43m    \u001B[49m\u001B[43m)\u001B[49m\n\u001B[0;32m    601\u001B[0m \u001B[38;5;28;01mif\u001B[39;00m \u001B[38;5;28mself\u001B[39m\u001B[38;5;241m.\u001B[39m_sparse \u001B[38;5;129;01mand\u001B[39;00m \u001B[38;5;129;01mnot\u001B[39;00m sp\u001B[38;5;241m.\u001B[39misspmatrix(X):\n\u001B[0;32m    602\u001B[0m     X \u001B[38;5;241m=\u001B[39m sp\u001B[38;5;241m.\u001B[39mcsr_matrix(X)\n",
      "File \u001B[1;32m~\\Desktop\\myProjects_python\\Titanic\\venvimg\\lib\\site-packages\\sklearn\\base.py:566\u001B[0m, in \u001B[0;36mBaseEstimator._validate_data\u001B[1;34m(self, X, y, reset, validate_separately, **check_params)\u001B[0m\n\u001B[0;32m    564\u001B[0m     \u001B[38;5;28;01mraise\u001B[39;00m \u001B[38;5;167;01mValueError\u001B[39;00m(\u001B[38;5;124m\"\u001B[39m\u001B[38;5;124mValidation should be done on X, y or both.\u001B[39m\u001B[38;5;124m\"\u001B[39m)\n\u001B[0;32m    565\u001B[0m \u001B[38;5;28;01melif\u001B[39;00m \u001B[38;5;129;01mnot\u001B[39;00m no_val_X \u001B[38;5;129;01mand\u001B[39;00m no_val_y:\n\u001B[1;32m--> 566\u001B[0m     X \u001B[38;5;241m=\u001B[39m check_array(X, \u001B[38;5;241m*\u001B[39m\u001B[38;5;241m*\u001B[39mcheck_params)\n\u001B[0;32m    567\u001B[0m     out \u001B[38;5;241m=\u001B[39m X\n\u001B[0;32m    568\u001B[0m \u001B[38;5;28;01melif\u001B[39;00m no_val_X \u001B[38;5;129;01mand\u001B[39;00m \u001B[38;5;129;01mnot\u001B[39;00m no_val_y:\n",
      "File \u001B[1;32m~\\Desktop\\myProjects_python\\Titanic\\venvimg\\lib\\site-packages\\sklearn\\utils\\validation.py:800\u001B[0m, in \u001B[0;36mcheck_array\u001B[1;34m(array, accept_sparse, accept_large_sparse, dtype, order, copy, force_all_finite, ensure_2d, allow_nd, ensure_min_samples, ensure_min_features, estimator)\u001B[0m\n\u001B[0;32m    794\u001B[0m         \u001B[38;5;28;01mraise\u001B[39;00m \u001B[38;5;167;01mValueError\u001B[39;00m(\n\u001B[0;32m    795\u001B[0m             \u001B[38;5;124m\"\u001B[39m\u001B[38;5;124mFound array with dim \u001B[39m\u001B[38;5;132;01m%d\u001B[39;00m\u001B[38;5;124m. \u001B[39m\u001B[38;5;132;01m%s\u001B[39;00m\u001B[38;5;124m expected <= 2.\u001B[39m\u001B[38;5;124m\"\u001B[39m\n\u001B[0;32m    796\u001B[0m             \u001B[38;5;241m%\u001B[39m (array\u001B[38;5;241m.\u001B[39mndim, estimator_name)\n\u001B[0;32m    797\u001B[0m         )\n\u001B[0;32m    799\u001B[0m     \u001B[38;5;28;01mif\u001B[39;00m force_all_finite:\n\u001B[1;32m--> 800\u001B[0m         \u001B[43m_assert_all_finite\u001B[49m\u001B[43m(\u001B[49m\u001B[43marray\u001B[49m\u001B[43m,\u001B[49m\u001B[43m \u001B[49m\u001B[43mallow_nan\u001B[49m\u001B[38;5;241;43m=\u001B[39;49m\u001B[43mforce_all_finite\u001B[49m\u001B[43m \u001B[49m\u001B[38;5;241;43m==\u001B[39;49m\u001B[43m \u001B[49m\u001B[38;5;124;43m\"\u001B[39;49m\u001B[38;5;124;43mallow-nan\u001B[39;49m\u001B[38;5;124;43m\"\u001B[39;49m\u001B[43m)\u001B[49m\n\u001B[0;32m    802\u001B[0m \u001B[38;5;28;01mif\u001B[39;00m ensure_min_samples \u001B[38;5;241m>\u001B[39m \u001B[38;5;241m0\u001B[39m:\n\u001B[0;32m    803\u001B[0m     n_samples \u001B[38;5;241m=\u001B[39m _num_samples(array)\n",
      "File \u001B[1;32m~\\Desktop\\myProjects_python\\Titanic\\venvimg\\lib\\site-packages\\sklearn\\utils\\validation.py:114\u001B[0m, in \u001B[0;36m_assert_all_finite\u001B[1;34m(X, allow_nan, msg_dtype)\u001B[0m\n\u001B[0;32m    107\u001B[0m     \u001B[38;5;28;01mif\u001B[39;00m (\n\u001B[0;32m    108\u001B[0m         allow_nan\n\u001B[0;32m    109\u001B[0m         \u001B[38;5;129;01mand\u001B[39;00m np\u001B[38;5;241m.\u001B[39misinf(X)\u001B[38;5;241m.\u001B[39many()\n\u001B[0;32m    110\u001B[0m         \u001B[38;5;129;01mor\u001B[39;00m \u001B[38;5;129;01mnot\u001B[39;00m allow_nan\n\u001B[0;32m    111\u001B[0m         \u001B[38;5;129;01mand\u001B[39;00m \u001B[38;5;129;01mnot\u001B[39;00m np\u001B[38;5;241m.\u001B[39misfinite(X)\u001B[38;5;241m.\u001B[39mall()\n\u001B[0;32m    112\u001B[0m     ):\n\u001B[0;32m    113\u001B[0m         type_err \u001B[38;5;241m=\u001B[39m \u001B[38;5;124m\"\u001B[39m\u001B[38;5;124minfinity\u001B[39m\u001B[38;5;124m\"\u001B[39m \u001B[38;5;28;01mif\u001B[39;00m allow_nan \u001B[38;5;28;01melse\u001B[39;00m \u001B[38;5;124m\"\u001B[39m\u001B[38;5;124mNaN, infinity\u001B[39m\u001B[38;5;124m\"\u001B[39m\n\u001B[1;32m--> 114\u001B[0m         \u001B[38;5;28;01mraise\u001B[39;00m \u001B[38;5;167;01mValueError\u001B[39;00m(\n\u001B[0;32m    115\u001B[0m             msg_err\u001B[38;5;241m.\u001B[39mformat(\n\u001B[0;32m    116\u001B[0m                 type_err, msg_dtype \u001B[38;5;28;01mif\u001B[39;00m msg_dtype \u001B[38;5;129;01mis\u001B[39;00m \u001B[38;5;129;01mnot\u001B[39;00m \u001B[38;5;28;01mNone\u001B[39;00m \u001B[38;5;28;01melse\u001B[39;00m X\u001B[38;5;241m.\u001B[39mdtype\n\u001B[0;32m    117\u001B[0m             )\n\u001B[0;32m    118\u001B[0m         )\n\u001B[0;32m    119\u001B[0m \u001B[38;5;66;03m# for object dtype data, we only check for NaNs (GH-13254)\u001B[39;00m\n\u001B[0;32m    120\u001B[0m \u001B[38;5;28;01melif\u001B[39;00m X\u001B[38;5;241m.\u001B[39mdtype \u001B[38;5;241m==\u001B[39m np\u001B[38;5;241m.\u001B[39mdtype(\u001B[38;5;124m\"\u001B[39m\u001B[38;5;124mobject\u001B[39m\u001B[38;5;124m\"\u001B[39m) \u001B[38;5;129;01mand\u001B[39;00m \u001B[38;5;129;01mnot\u001B[39;00m allow_nan:\n",
      "\u001B[1;31mValueError\u001B[0m: Input contains NaN, infinity or a value too large for dtype('float64')."
     ]
    }
   ],
   "source": [
    "y_hat_svc_best = svc_best.predict(test.loc[:, test.columns != 'PassengerId']).astype(int)\n",
    "y_hat_xgb_best = xgb_best.predict(test.loc[:, test.columns != 'PassengerId']).astype(int)\n",
    "y_hat_voting_clf_best = voting_clf_best.predict(test.loc[:, test.columns != 'PassengerId']).astype(int)\n",
    "y_hat_model = model.predict(test.loc[:, test.columns != 'PassengerId']).astype(int)"
   ],
   "metadata": {
    "collapsed": false,
    "pycharm": {
     "name": "#%%\n"
    }
   }
  },
  {
   "cell_type": "markdown",
   "source": [
    "## Convert results to dataframe"
   ],
   "metadata": {
    "collapsed": false,
    "pycharm": {
     "name": "#%% md\n"
    }
   }
  },
  {
   "cell_type": "code",
   "execution_count": null,
   "outputs": [],
   "source": [
    "final_data = {'PassengerId': test.PassengerId, 'Survived': y_hat_svc_best}\n",
    "submission = pd.DataFrame(data=final_data)\n",
    "\n",
    "final_data_2 = {'PassengerId': test.PassengerId, 'Survived': y_hat_xgb_best}\n",
    "submission_2 = pd.DataFrame(data=final_data_2)\n",
    "\n",
    "final_data_3 = {'PassengerId': test.PassengerId, 'Survived': y_hat_voting_clf_best}\n",
    "submission_3 = pd.DataFrame(data=final_data_3)\n",
    "\n",
    "final_data_4 = {'PassengerId': test.PassengerId, 'Survived': y_hat_model}\n",
    "submission_4 = pd.DataFrame(data=final_data_4)\n",
    "\n",
    "final_data_comp = {'PassengerId': test.PassengerId, 'Survived_svc': y_hat_svc_best, 'Survived_xgb': y_hat_xgb_best, 'Survived_voting' : y_hat_voting_clf_best, 'Survived_model' : y_hat_model}\n",
    "comparison = pd.DataFrame(data=final_data_comp)"
   ],
   "metadata": {
    "collapsed": false,
    "pycharm": {
     "name": "#%%\n"
    }
   }
  },
  {
   "cell_type": "code",
   "execution_count": null,
   "outputs": [],
   "source": [
    "#track differences between outputs\n",
    "comparison['difference_rf_vc_hard'] = comparison.apply(lambda x: 1 if x.Survived_vc_hard != x.Survived_rf else 0, axis =1)\n",
    "comparison['difference_soft_hard'] = comparison.apply(lambda x: 1 if x.Survived_vc_hard != x.Survived_vc_soft else 0, axis =1)\n",
    "comparison['difference_hard_all'] = comparison.apply(lambda x: 1 if x.Survived_vc_all != x.Survived_vc_hard else 0, axis =1)"
   ],
   "metadata": {
    "collapsed": false,
    "pycharm": {
     "name": "#%%\n"
    }
   }
  },
  {
   "cell_type": "code",
   "execution_count": null,
   "outputs": [],
   "source": [
    "comparison.difference_hard_all.value_counts()"
   ],
   "metadata": {
    "collapsed": false,
    "pycharm": {
     "name": "#%%\n"
    }
   }
  },
  {
   "cell_type": "markdown",
   "source": [
    "## Prepare to submit"
   ],
   "metadata": {
    "collapsed": false,
    "pycharm": {
     "name": "#%% md\n"
    }
   }
  },
  {
   "cell_type": "code",
   "execution_count": null,
   "outputs": [],
   "source": [
    "#prepare submission files\n",
    "submission.to_csv('./submission/submission_svc.csv', index =False)\n",
    "submission_2.to_csv('./submission/submission_xgb.csv',index=False)\n",
    "submission_3.to_csv('./submission/submission_voting.csv', index=False)\n",
    "submission_4.to_csv('./submission/submission_model.csv', index=False)"
   ],
   "metadata": {
    "collapsed": false,
    "pycharm": {
     "name": "#%%\n"
    }
   }
  }
 ],
 "metadata": {
  "kernelspec": {
   "display_name": "Python 3",
   "language": "python",
   "name": "python3"
  },
  "language_info": {
   "codemirror_mode": {
    "name": "ipython",
    "version": 2
   },
   "file_extension": ".py",
   "mimetype": "text/x-python",
   "name": "python",
   "nbconvert_exporter": "python",
   "pygments_lexer": "ipython2",
   "version": "2.7.6"
  }
 },
 "nbformat": 4,
 "nbformat_minor": 0
}