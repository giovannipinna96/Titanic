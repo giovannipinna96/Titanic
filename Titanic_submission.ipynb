{
 "cells": [
  {
   "cell_type": "markdown",
   "metadata": {
    "collapsed": true,
    "pycharm": {
     "name": "#%% md\n"
    }
   },
   "source": [
    "# Titanic submission"
   ]
  },
  {
   "cell_type": "code",
   "execution_count": 1,
   "outputs": [],
   "source": [
    "from pandas.core.common import SettingWithCopyWarning\n",
    "import warnings\n",
    "from tensorflow import keras\n",
    "import utils\n",
    "import pandas as pd\n",
    "\n",
    "warnings.filterwarnings(\"ignore\", category=SettingWithCopyWarning)"
   ],
   "metadata": {
    "collapsed": false,
    "pycharm": {
     "name": "#%%\n"
    }
   }
  },
  {
   "cell_type": "code",
   "execution_count": 2,
   "outputs": [],
   "source": [
    "from loadDataUtils import loadDataUtils"
   ],
   "metadata": {
    "collapsed": false,
    "pycharm": {
     "name": "#%%\n"
    }
   }
  },
  {
   "cell_type": "code",
   "execution_count": 3,
   "outputs": [],
   "source": [
    "path_train = r'C:\\Users\\39320\\Desktop\\myProjects_python\\Titanic\\data\\train.csv'\n",
    "path_test = r'C:\\Users\\39320\\Desktop\\myProjects_python\\Titanic\\data\\test.csv'\n",
    "data = loadDataUtils(path_train, path_test)"
   ],
   "metadata": {
    "collapsed": false,
    "pycharm": {
     "name": "#%%\n"
    }
   }
  },
  {
   "cell_type": "code",
   "execution_count": 4,
   "outputs": [],
   "source": [
    "df_train, df_test = data.get_train_and_test()"
   ],
   "metadata": {
    "collapsed": false,
    "pycharm": {
     "name": "#%%\n"
    }
   }
  },
  {
   "cell_type": "markdown",
   "source": [
    "### Clean data"
   ],
   "metadata": {
    "collapsed": false
   }
  },
  {
   "cell_type": "code",
   "execution_count": 5,
   "outputs": [],
   "source": [
    "from titanicPreprocessing import preprocess"
   ],
   "metadata": {
    "collapsed": false,
    "pycharm": {
     "name": "#%%\n"
    }
   }
  },
  {
   "cell_type": "code",
   "execution_count": 6,
   "outputs": [],
   "source": [
    "p = preprocess(df_train.copy(), df_test.copy())\n",
    "p.do_preprocess()"
   ],
   "metadata": {
    "collapsed": false,
    "pycharm": {
     "name": "#%%\n"
    }
   }
  },
  {
   "cell_type": "code",
   "execution_count": 8,
   "outputs": [],
   "source": [
    "train, test = p.get_data()"
   ],
   "metadata": {
    "collapsed": false,
    "pycharm": {
     "name": "#%%\n"
    }
   }
  },
  {
   "cell_type": "code",
   "execution_count": 9,
   "outputs": [],
   "source": [
    "train_target = train['Survived']\n",
    "train.drop(columns=['Survived'], inplace=True)"
   ],
   "metadata": {
    "collapsed": false,
    "pycharm": {
     "name": "#%%\n"
    }
   }
  },
  {
   "cell_type": "code",
   "execution_count": 10,
   "outputs": [
    {
     "name": "stdout",
     "output_type": "stream",
     "text": [
      "<class 'pandas.core.frame.DataFrame'>\n",
      "Int64Index: 889 entries, 0 to 890\n",
      "Data columns (total 22 columns):\n",
      " #   Column           Non-Null Count  Dtype  \n",
      "---  ------           --------------  -----  \n",
      " 0   PassengerId      889 non-null    int64  \n",
      " 1   Pclass           889 non-null    int64  \n",
      " 2   Age              889 non-null    float64\n",
      " 3   SibSp            889 non-null    int64  \n",
      " 4   Parch            889 non-null    int64  \n",
      " 5   Fare             889 non-null    float64\n",
      " 6   cabin_multiple   889 non-null    int64  \n",
      " 7   Sex_female       889 non-null    uint8  \n",
      " 8   Sex_male         889 non-null    uint8  \n",
      " 9   Embarked_C       889 non-null    uint8  \n",
      " 10  Embarked_Q       889 non-null    uint8  \n",
      " 11  Embarked_S       889 non-null    uint8  \n",
      " 12  cabin_letter_0   889 non-null    uint8  \n",
      " 13  cabin_letter_A   889 non-null    uint8  \n",
      " 14  cabin_letter_B   889 non-null    uint8  \n",
      " 15  cabin_letter_C   889 non-null    uint8  \n",
      " 16  cabin_letter_D   889 non-null    uint8  \n",
      " 17  cabin_letter_E   889 non-null    uint8  \n",
      " 18  cabin_letter_F   889 non-null    uint8  \n",
      " 19  cabin_letter_G   889 non-null    uint8  \n",
      " 20  cabin_letter_T   889 non-null    uint8  \n",
      " 21  name_title_Rare  889 non-null    uint8  \n",
      "dtypes: float64(2), int64(5), uint8(15)\n",
      "memory usage: 100.9 KB\n"
     ]
    }
   ],
   "source": [
    "train.info()"
   ],
   "metadata": {
    "collapsed": false,
    "pycharm": {
     "name": "#%%\n"
    }
   }
  },
  {
   "cell_type": "code",
   "execution_count": 11,
   "outputs": [
    {
     "data": {
      "text/plain": "   PassengerId  Pclass       Age  SibSp  Parch      Fare  cabin_multiple  \\\n0            1       3 -0.592752      1      0 -0.877591               0   \n1            2       1  0.640471      1      0  1.366380               1   \n2            3       3 -0.284446      0      0 -0.796281               0   \n3            4       1  0.409241      1      0  1.066796               1   \n4            5       3  0.409241      0      0 -0.781901               0   \n\n   Sex_female  Sex_male  Embarked_C  ...  cabin_letter_0  cabin_letter_A  \\\n0           0         1           0  ...               1               0   \n1           1         0           1  ...               0               0   \n2           1         0           0  ...               1               0   \n3           1         0           0  ...               0               0   \n4           0         1           0  ...               1               0   \n\n   cabin_letter_B  cabin_letter_C  cabin_letter_D  cabin_letter_E  \\\n0               0               0               0               0   \n1               0               1               0               0   \n2               0               0               0               0   \n3               0               1               0               0   \n4               0               0               0               0   \n\n   cabin_letter_F  cabin_letter_G  cabin_letter_T  name_title_Rare  \n0               0               0               0                1  \n1               0               0               0                1  \n2               0               0               0                1  \n3               0               0               0                1  \n4               0               0               0                1  \n\n[5 rows x 22 columns]",
      "text/html": "<div>\n<style scoped>\n    .dataframe tbody tr th:only-of-type {\n        vertical-align: middle;\n    }\n\n    .dataframe tbody tr th {\n        vertical-align: top;\n    }\n\n    .dataframe thead th {\n        text-align: right;\n    }\n</style>\n<table border=\"1\" class=\"dataframe\">\n  <thead>\n    <tr style=\"text-align: right;\">\n      <th></th>\n      <th>PassengerId</th>\n      <th>Pclass</th>\n      <th>Age</th>\n      <th>SibSp</th>\n      <th>Parch</th>\n      <th>Fare</th>\n      <th>cabin_multiple</th>\n      <th>Sex_female</th>\n      <th>Sex_male</th>\n      <th>Embarked_C</th>\n      <th>...</th>\n      <th>cabin_letter_0</th>\n      <th>cabin_letter_A</th>\n      <th>cabin_letter_B</th>\n      <th>cabin_letter_C</th>\n      <th>cabin_letter_D</th>\n      <th>cabin_letter_E</th>\n      <th>cabin_letter_F</th>\n      <th>cabin_letter_G</th>\n      <th>cabin_letter_T</th>\n      <th>name_title_Rare</th>\n    </tr>\n  </thead>\n  <tbody>\n    <tr>\n      <th>0</th>\n      <td>1</td>\n      <td>3</td>\n      <td>-0.592752</td>\n      <td>1</td>\n      <td>0</td>\n      <td>-0.877591</td>\n      <td>0</td>\n      <td>0</td>\n      <td>1</td>\n      <td>0</td>\n      <td>...</td>\n      <td>1</td>\n      <td>0</td>\n      <td>0</td>\n      <td>0</td>\n      <td>0</td>\n      <td>0</td>\n      <td>0</td>\n      <td>0</td>\n      <td>0</td>\n      <td>1</td>\n    </tr>\n    <tr>\n      <th>1</th>\n      <td>2</td>\n      <td>1</td>\n      <td>0.640471</td>\n      <td>1</td>\n      <td>0</td>\n      <td>1.366380</td>\n      <td>1</td>\n      <td>1</td>\n      <td>0</td>\n      <td>1</td>\n      <td>...</td>\n      <td>0</td>\n      <td>0</td>\n      <td>0</td>\n      <td>1</td>\n      <td>0</td>\n      <td>0</td>\n      <td>0</td>\n      <td>0</td>\n      <td>0</td>\n      <td>1</td>\n    </tr>\n    <tr>\n      <th>2</th>\n      <td>3</td>\n      <td>3</td>\n      <td>-0.284446</td>\n      <td>0</td>\n      <td>0</td>\n      <td>-0.796281</td>\n      <td>0</td>\n      <td>1</td>\n      <td>0</td>\n      <td>0</td>\n      <td>...</td>\n      <td>1</td>\n      <td>0</td>\n      <td>0</td>\n      <td>0</td>\n      <td>0</td>\n      <td>0</td>\n      <td>0</td>\n      <td>0</td>\n      <td>0</td>\n      <td>1</td>\n    </tr>\n    <tr>\n      <th>3</th>\n      <td>4</td>\n      <td>1</td>\n      <td>0.409241</td>\n      <td>1</td>\n      <td>0</td>\n      <td>1.066796</td>\n      <td>1</td>\n      <td>1</td>\n      <td>0</td>\n      <td>0</td>\n      <td>...</td>\n      <td>0</td>\n      <td>0</td>\n      <td>0</td>\n      <td>1</td>\n      <td>0</td>\n      <td>0</td>\n      <td>0</td>\n      <td>0</td>\n      <td>0</td>\n      <td>1</td>\n    </tr>\n    <tr>\n      <th>4</th>\n      <td>5</td>\n      <td>3</td>\n      <td>0.409241</td>\n      <td>0</td>\n      <td>0</td>\n      <td>-0.781901</td>\n      <td>0</td>\n      <td>0</td>\n      <td>1</td>\n      <td>0</td>\n      <td>...</td>\n      <td>1</td>\n      <td>0</td>\n      <td>0</td>\n      <td>0</td>\n      <td>0</td>\n      <td>0</td>\n      <td>0</td>\n      <td>0</td>\n      <td>0</td>\n      <td>1</td>\n    </tr>\n  </tbody>\n</table>\n<p>5 rows × 22 columns</p>\n</div>"
     },
     "execution_count": 11,
     "metadata": {},
     "output_type": "execute_result"
    }
   ],
   "source": [
    "train.head()"
   ],
   "metadata": {
    "collapsed": false,
    "pycharm": {
     "name": "#%%\n"
    }
   }
  },
  {
   "cell_type": "code",
   "execution_count": 12,
   "outputs": [],
   "source": [
    "test.insert(20, 'cabin_letter_T', 0)"
   ],
   "metadata": {
    "collapsed": false,
    "pycharm": {
     "name": "#%%\n"
    }
   }
  },
  {
   "cell_type": "code",
   "execution_count": 13,
   "outputs": [
    {
     "name": "stdout",
     "output_type": "stream",
     "text": [
      "<class 'pandas.core.frame.DataFrame'>\n",
      "RangeIndex: 418 entries, 0 to 417\n",
      "Data columns (total 22 columns):\n",
      " #   Column           Non-Null Count  Dtype  \n",
      "---  ------           --------------  -----  \n",
      " 0   PassengerId      418 non-null    int64  \n",
      " 1   Pclass           418 non-null    int64  \n",
      " 2   Age              418 non-null    float64\n",
      " 3   SibSp            418 non-null    int64  \n",
      " 4   Parch            418 non-null    int64  \n",
      " 5   Fare             418 non-null    float64\n",
      " 6   cabin_multiple   418 non-null    int64  \n",
      " 7   Sex_female       418 non-null    uint8  \n",
      " 8   Sex_male         418 non-null    uint8  \n",
      " 9   Embarked_C       418 non-null    uint8  \n",
      " 10  Embarked_Q       418 non-null    uint8  \n",
      " 11  Embarked_S       418 non-null    uint8  \n",
      " 12  cabin_letter_0   418 non-null    uint8  \n",
      " 13  cabin_letter_A   418 non-null    uint8  \n",
      " 14  cabin_letter_B   418 non-null    uint8  \n",
      " 15  cabin_letter_C   418 non-null    uint8  \n",
      " 16  cabin_letter_D   418 non-null    uint8  \n",
      " 17  cabin_letter_E   418 non-null    uint8  \n",
      " 18  cabin_letter_F   418 non-null    uint8  \n",
      " 19  cabin_letter_G   418 non-null    uint8  \n",
      " 20  cabin_letter_T   418 non-null    int64  \n",
      " 21  name_title_Rare  418 non-null    uint8  \n",
      "dtypes: float64(2), int64(6), uint8(14)\n",
      "memory usage: 32.0 KB\n"
     ]
    }
   ],
   "source": [
    "test.info()"
   ],
   "metadata": {
    "collapsed": false,
    "pycharm": {
     "name": "#%%\n"
    }
   }
  },
  {
   "cell_type": "markdown",
   "source": [
    "## Load pickle"
   ],
   "metadata": {
    "collapsed": false,
    "pycharm": {
     "name": "#%% md\n"
    }
   }
  },
  {
   "cell_type": "code",
   "execution_count": null,
   "outputs": [],
   "source": [
    "pickle = utils.load_pickle_obj('./save_best_model/pickle_best_models')"
   ],
   "metadata": {
    "collapsed": false,
    "pycharm": {
     "name": "#%%\n"
    }
   }
  },
  {
   "cell_type": "code",
   "execution_count": null,
   "outputs": [],
   "source": [
    "svc_best = pickle[0]\n",
    "xgb_best = pickle[1]\n",
    "voting_clf_best = pickle[2]\n",
    "\n",
    "model = keras.models.load_model(\"./save_best_model_pickle/keras_classifier3\")"
   ],
   "metadata": {
    "collapsed": false,
    "pycharm": {
     "name": "#%%\n"
    }
   }
  },
  {
   "cell_type": "code",
   "execution_count": null,
   "outputs": [],
   "source": [
    "model.summary()"
   ],
   "metadata": {
    "collapsed": false,
    "pycharm": {
     "name": "#%%\n"
    }
   }
  },
  {
   "cell_type": "code",
   "execution_count": 7,
   "outputs": [],
   "source": [
    "utils.save_obj('./save_best_model/pickle_sc', first= p.get_sc_Age(), second = p.get_sc_Fare())"
   ],
   "metadata": {
    "collapsed": false,
    "pycharm": {
     "name": "#%%\n"
    }
   }
  },
  {
   "cell_type": "markdown",
   "source": [
    "### fit on all train data"
   ],
   "metadata": {
    "collapsed": false,
    "pycharm": {
     "name": "#%% md\n"
    }
   }
  },
  {
   "cell_type": "code",
   "execution_count": 37,
   "outputs": [
    {
     "name": "stdout",
     "output_type": "stream",
     "text": [
      "[14:11:33] WARNING: C:/Users/Administrator/workspace/xgboost-win64_release_1.6.0/src/learner.cc:627: \n",
      "Parameters: { \"colsample_bytre\" } might not be used.\n",
      "\n",
      "  This could be a false alarm, with some parameters getting used by language bindings but\n",
      "  then being mistakenly passed down to XGBoost core, or some parameter actually being used\n",
      "  but getting flagged wrongly here. Please open an issue if you find any such cases.\n",
      "\n",
      "\n",
      "Epoch 1/25\n",
      "28/28 [==============================] - 0s 1ms/step - loss: 0.4101 - accuracy: 0.8268\n",
      "Epoch 2/25\n",
      "28/28 [==============================] - 0s 1ms/step - loss: 0.4088 - accuracy: 0.8313\n",
      "Epoch 3/25\n",
      "28/28 [==============================] - 0s 2ms/step - loss: 0.4077 - accuracy: 0.8313\n",
      "Epoch 4/25\n",
      "28/28 [==============================] - 0s 1ms/step - loss: 0.4072 - accuracy: 0.8301\n",
      "Epoch 5/25\n",
      "28/28 [==============================] - 0s 582us/step - loss: 0.4063 - accuracy: 0.8335\n",
      "Epoch 6/25\n",
      "28/28 [==============================] - 0s 1ms/step - loss: 0.4061 - accuracy: 0.8313\n",
      "Epoch 7/25\n",
      "28/28 [==============================] - 0s 1ms/step - loss: 0.4059 - accuracy: 0.8346\n",
      "Epoch 8/25\n",
      "28/28 [==============================] - 0s 2ms/step - loss: 0.4041 - accuracy: 0.8324\n",
      "Epoch 9/25\n",
      "28/28 [==============================] - 0s 1ms/step - loss: 0.4046 - accuracy: 0.8346\n",
      "Epoch 10/25\n",
      "28/28 [==============================] - 0s 1ms/step - loss: 0.4046 - accuracy: 0.8346\n",
      "Epoch 11/25\n",
      "28/28 [==============================] - 0s 2ms/step - loss: 0.4033 - accuracy: 0.8346\n",
      "Epoch 12/25\n",
      "28/28 [==============================] - 0s 2ms/step - loss: 0.4040 - accuracy: 0.8358\n",
      "Epoch 13/25\n",
      "28/28 [==============================] - 0s 2ms/step - loss: 0.4024 - accuracy: 0.8324\n",
      "Epoch 14/25\n",
      "28/28 [==============================] - 0s 1ms/step - loss: 0.4019 - accuracy: 0.8346\n",
      "Epoch 15/25\n",
      "28/28 [==============================] - 0s 2ms/step - loss: 0.4016 - accuracy: 0.8324\n",
      "Epoch 16/25\n",
      "28/28 [==============================] - 0s 1ms/step - loss: 0.4014 - accuracy: 0.8324\n",
      "Epoch 17/25\n",
      "28/28 [==============================] - 0s 1ms/step - loss: 0.4020 - accuracy: 0.8380\n",
      "Epoch 18/25\n",
      "28/28 [==============================] - 0s 1ms/step - loss: 0.4015 - accuracy: 0.8324\n",
      "Epoch 19/25\n",
      "28/28 [==============================] - 0s 1ms/step - loss: 0.4011 - accuracy: 0.8335\n",
      "Epoch 20/25\n",
      "28/28 [==============================] - 0s 1ms/step - loss: 0.4008 - accuracy: 0.8335\n",
      "Epoch 21/25\n",
      "28/28 [==============================] - 0s 1ms/step - loss: 0.4001 - accuracy: 0.8335\n",
      "Epoch 22/25\n",
      "28/28 [==============================] - 0s 2ms/step - loss: 0.4000 - accuracy: 0.8335\n",
      "Epoch 23/25\n",
      "28/28 [==============================] - 0s 1ms/step - loss: 0.3999 - accuracy: 0.8324\n",
      "Epoch 24/25\n",
      "28/28 [==============================] - 0s 1ms/step - loss: 0.4008 - accuracy: 0.8380\n",
      "Epoch 25/25\n",
      "28/28 [==============================] - 0s 1ms/step - loss: 0.3997 - accuracy: 0.8346\n"
     ]
    },
    {
     "data": {
      "text/plain": "<keras.callbacks.History at 0x168db516620>"
     },
     "execution_count": 37,
     "metadata": {},
     "output_type": "execute_result"
    }
   ],
   "source": [
    "svc_best.fit(train.loc[:, train.columns != 'PassengerId'], train_target)\n",
    "xgb_best.fit(train.loc[:, train.columns != 'PassengerId'], train_target)\n",
    "voting_clf_best.fit(train.loc[:, train.columns != 'PassengerId'], train_target)\n",
    "model.fit(train.loc[:, train.columns != 'PassengerId'], train_target, epochs =25)"
   ],
   "metadata": {
    "collapsed": false,
    "pycharm": {
     "name": "#%%\n"
    }
   }
  },
  {
   "cell_type": "code",
   "execution_count": 38,
   "outputs": [],
   "source": [
    "import numpy as np\n",
    "\n",
    "y_hat_svc_best = svc_best.predict(test.loc[:, test.columns != 'PassengerId']).astype(int)\n",
    "y_hat_xgb_best = xgb_best.predict(test.loc[:, test.columns != 'PassengerId']).astype(int)\n",
    "y_hat_voting_clf_best = voting_clf_best.predict(test.loc[:, test.columns != 'PassengerId']).astype(int)\n",
    "y_hat_model = np.round(model.predict(test.loc[:, test.columns != 'PassengerId'])).astype(int)"
   ],
   "metadata": {
    "collapsed": false,
    "pycharm": {
     "name": "#%%\n"
    }
   }
  },
  {
   "cell_type": "code",
   "execution_count": 39,
   "outputs": [
    {
     "data": {
      "text/plain": "(418,)"
     },
     "execution_count": 39,
     "metadata": {},
     "output_type": "execute_result"
    }
   ],
   "source": [
    "y_hat_model = y_hat_model[:,0]\n",
    "y_hat_model.shape"
   ],
   "metadata": {
    "collapsed": false,
    "pycharm": {
     "name": "#%%\n"
    }
   }
  },
  {
   "cell_type": "markdown",
   "source": [
    "## Convert results to dataframe"
   ],
   "metadata": {
    "collapsed": false,
    "pycharm": {
     "name": "#%% md\n"
    }
   }
  },
  {
   "cell_type": "code",
   "execution_count": 40,
   "outputs": [],
   "source": [
    "final_data = {'PassengerId': test.PassengerId, 'Survived': y_hat_svc_best}\n",
    "submission = pd.DataFrame(data=final_data)\n",
    "\n",
    "final_data_2 = {'PassengerId': test.PassengerId, 'Survived': y_hat_xgb_best}\n",
    "submission_2 = pd.DataFrame(data=final_data_2)\n",
    "\n",
    "final_data_3 = {'PassengerId': test.PassengerId, 'Survived': y_hat_voting_clf_best}\n",
    "submission_3 = pd.DataFrame(data=final_data_3)\n",
    "\n",
    "final_data_4 = {'PassengerId': test.PassengerId, 'Survived': y_hat_model}\n",
    "submission_4 = pd.DataFrame(data=final_data_4)"
   ],
   "metadata": {
    "collapsed": false,
    "pycharm": {
     "name": "#%%\n"
    }
   }
  },
  {
   "cell_type": "code",
   "execution_count": 41,
   "outputs": [],
   "source": [
    "final_data_comp = {'PassengerId': test.PassengerId, 'Survived_svc': y_hat_svc_best, 'Survived_xgb': y_hat_xgb_best, 'Survived_voting' : y_hat_voting_clf_best, 'Survived_model' : y_hat_model}\n",
    "comparison = pd.DataFrame(data=final_data_comp)"
   ],
   "metadata": {
    "collapsed": false,
    "pycharm": {
     "name": "#%%\n"
    }
   }
  },
  {
   "cell_type": "code",
   "execution_count": 42,
   "outputs": [],
   "source": [
    "#track differences between outputs\n",
    "comparison['difference_svc_xgb'] = comparison.apply(lambda x: 1 if x.Survived_svc != x.Survived_xgb else 0, axis =1)\n",
    "comparison['difference_svc_voting'] = comparison.apply(lambda x: 1 if x.Survived_svc != x.Survived_voting else 0, axis =1)\n",
    "comparison['difference_svc_model'] = comparison.apply(lambda x: 1 if x.Survived_model != x.Survived_svc else 0, axis =1)"
   ],
   "metadata": {
    "collapsed": false,
    "pycharm": {
     "name": "#%%\n"
    }
   }
  },
  {
   "cell_type": "code",
   "execution_count": 43,
   "outputs": [
    {
     "data": {
      "text/plain": "0    380\n1     38\nName: difference_svc_model, dtype: int64"
     },
     "execution_count": 43,
     "metadata": {},
     "output_type": "execute_result"
    }
   ],
   "source": [
    "comparison.difference_svc_model.value_counts()"
   ],
   "metadata": {
    "collapsed": false,
    "pycharm": {
     "name": "#%%\n"
    }
   }
  },
  {
   "cell_type": "markdown",
   "source": [
    "## Prepare to submit"
   ],
   "metadata": {
    "collapsed": false,
    "pycharm": {
     "name": "#%% md\n"
    }
   }
  },
  {
   "cell_type": "code",
   "execution_count": 44,
   "outputs": [],
   "source": [
    "#prepare submission files\n",
    "submission.to_csv('./submission/submission_svc.csv', index =False)\n",
    "submission_2.to_csv('./submission/submission_xgb.csv',index=False)\n",
    "submission_3.to_csv('./submission/submission_voting.csv', index=False)\n",
    "submission_4.to_csv('./submission/submission_model.csv', index=False)"
   ],
   "metadata": {
    "collapsed": false,
    "pycharm": {
     "name": "#%%\n"
    }
   }
  }
 ],
 "metadata": {
  "kernelspec": {
   "display_name": "Python 3",
   "language": "python",
   "name": "python3"
  },
  "language_info": {
   "codemirror_mode": {
    "name": "ipython",
    "version": 2
   },
   "file_extension": ".py",
   "mimetype": "text/x-python",
   "name": "python",
   "nbconvert_exporter": "python",
   "pygments_lexer": "ipython2",
   "version": "2.7.6"
  }
 },
 "nbformat": 4,
 "nbformat_minor": 0
}