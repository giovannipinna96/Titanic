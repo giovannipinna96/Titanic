{
 "cells": [
  {
   "cell_type": "markdown",
   "metadata": {
    "collapsed": true,
    "pycharm": {
     "name": "#%% md\n"
    }
   },
   "source": [
    "# Titanic submission"
   ]
  },
  {
   "cell_type": "code",
   "execution_count": 23,
   "outputs": [],
   "source": [
    "from pandas.core.common import SettingWithCopyWarning\n",
    "import warnings\n",
    "from tensorflow import keras\n",
    "import utils\n",
    "import pandas as pd\n",
    "\n",
    "warnings.filterwarnings(\"ignore\", category=SettingWithCopyWarning)"
   ],
   "metadata": {
    "collapsed": false,
    "pycharm": {
     "name": "#%%\n"
    }
   }
  },
  {
   "cell_type": "code",
   "execution_count": 24,
   "outputs": [],
   "source": [
    "from loadDataUtils import loadDataUtils"
   ],
   "metadata": {
    "collapsed": false,
    "pycharm": {
     "name": "#%%\n"
    }
   }
  },
  {
   "cell_type": "code",
   "execution_count": 25,
   "outputs": [],
   "source": [
    "path_train = r'C:\\Users\\39320\\Desktop\\myProjects_python\\Titanic\\data\\train.csv'\n",
    "path_test = r'C:\\Users\\39320\\Desktop\\myProjects_python\\Titanic\\data\\test.csv'\n",
    "data = loadDataUtils(path_train, path_test)"
   ],
   "metadata": {
    "collapsed": false,
    "pycharm": {
     "name": "#%%\n"
    }
   }
  },
  {
   "cell_type": "code",
   "execution_count": 26,
   "outputs": [],
   "source": [
    "df_train, df_test = data.get_train_and_test()"
   ],
   "metadata": {
    "collapsed": false,
    "pycharm": {
     "name": "#%%\n"
    }
   }
  },
  {
   "cell_type": "markdown",
   "source": [
    "### Clean data"
   ],
   "metadata": {
    "collapsed": false
   }
  },
  {
   "cell_type": "code",
   "execution_count": 27,
   "outputs": [],
   "source": [
    "from titanicPreprocessing import preprocess"
   ],
   "metadata": {
    "collapsed": false,
    "pycharm": {
     "name": "#%%\n"
    }
   }
  },
  {
   "cell_type": "code",
   "execution_count": 28,
   "outputs": [],
   "source": [
    "p = preprocess(df_train.copy(), df_test.copy())\n",
    "p.do_preprocess()"
   ],
   "metadata": {
    "collapsed": false,
    "pycharm": {
     "name": "#%%\n"
    }
   }
  },
  {
   "cell_type": "code",
   "execution_count": 29,
   "outputs": [],
   "source": [
    "train, test = p.get_data()"
   ],
   "metadata": {
    "collapsed": false,
    "pycharm": {
     "name": "#%%\n"
    }
   }
  },
  {
   "cell_type": "code",
   "execution_count": 30,
   "outputs": [],
   "source": [
    "train_target = train['Survived']\n",
    "train.drop(columns=['Survived'], inplace=True)"
   ],
   "metadata": {
    "collapsed": false,
    "pycharm": {
     "name": "#%%\n"
    }
   }
  },
  {
   "cell_type": "code",
   "execution_count": 31,
   "outputs": [
    {
     "name": "stdout",
     "output_type": "stream",
     "text": [
      "<class 'pandas.core.frame.DataFrame'>\n",
      "Int64Index: 889 entries, 0 to 890\n",
      "Data columns (total 28 columns):\n",
      " #   Column             Non-Null Count  Dtype  \n",
      "---  ------             --------------  -----  \n",
      " 0   PassengerId        889 non-null    int64  \n",
      " 1   Pclass             889 non-null    int64  \n",
      " 2   Age                889 non-null    float64\n",
      " 3   SibSp              889 non-null    int64  \n",
      " 4   Parch              889 non-null    int64  \n",
      " 5   Fare               889 non-null    float64\n",
      " 6   cabin_multiple     889 non-null    int64  \n",
      " 7   Sex_female         889 non-null    uint8  \n",
      " 8   Sex_male           889 non-null    uint8  \n",
      " 9   Embarked_C         889 non-null    uint8  \n",
      " 10  Embarked_Q         889 non-null    uint8  \n",
      " 11  Embarked_S         889 non-null    uint8  \n",
      " 12  cabin_letter_0     889 non-null    uint8  \n",
      " 13  cabin_letter_A     889 non-null    uint8  \n",
      " 14  cabin_letter_B     889 non-null    uint8  \n",
      " 15  cabin_letter_C     889 non-null    uint8  \n",
      " 16  cabin_letter_D     889 non-null    uint8  \n",
      " 17  cabin_letter_E     889 non-null    uint8  \n",
      " 18  cabin_letter_F     889 non-null    uint8  \n",
      " 19  cabin_letter_G     889 non-null    uint8  \n",
      " 20  cabin_letter_T     889 non-null    uint8  \n",
      " 21  name_title_Dr      889 non-null    uint8  \n",
      " 22  name_title_Master  889 non-null    uint8  \n",
      " 23  name_title_Miss    889 non-null    uint8  \n",
      " 24  name_title_Mr      889 non-null    uint8  \n",
      " 25  name_title_Mrs     889 non-null    uint8  \n",
      " 26  name_title_Rare    889 non-null    uint8  \n",
      " 27  name_title_Rev     889 non-null    uint8  \n",
      "dtypes: float64(2), int64(5), uint8(21)\n",
      "memory usage: 106.1 KB\n"
     ]
    }
   ],
   "source": [
    "train.info()"
   ],
   "metadata": {
    "collapsed": false,
    "pycharm": {
     "name": "#%%\n"
    }
   }
  },
  {
   "cell_type": "code",
   "execution_count": 32,
   "outputs": [],
   "source": [
    "test.insert(20, 'cabin_letter_T', 0)"
   ],
   "metadata": {
    "collapsed": false,
    "pycharm": {
     "name": "#%%\n"
    }
   }
  },
  {
   "cell_type": "code",
   "execution_count": 33,
   "outputs": [
    {
     "name": "stdout",
     "output_type": "stream",
     "text": [
      "<class 'pandas.core.frame.DataFrame'>\n",
      "RangeIndex: 418 entries, 0 to 417\n",
      "Data columns (total 28 columns):\n",
      " #   Column             Non-Null Count  Dtype  \n",
      "---  ------             --------------  -----  \n",
      " 0   PassengerId        418 non-null    int64  \n",
      " 1   Pclass             418 non-null    int64  \n",
      " 2   Age                418 non-null    float64\n",
      " 3   SibSp              418 non-null    int64  \n",
      " 4   Parch              418 non-null    int64  \n",
      " 5   Fare               418 non-null    float64\n",
      " 6   cabin_multiple     418 non-null    int64  \n",
      " 7   Sex_female         418 non-null    uint8  \n",
      " 8   Sex_male           418 non-null    uint8  \n",
      " 9   Embarked_C         418 non-null    uint8  \n",
      " 10  Embarked_Q         418 non-null    uint8  \n",
      " 11  Embarked_S         418 non-null    uint8  \n",
      " 12  cabin_letter_0     418 non-null    uint8  \n",
      " 13  cabin_letter_A     418 non-null    uint8  \n",
      " 14  cabin_letter_B     418 non-null    uint8  \n",
      " 15  cabin_letter_C     418 non-null    uint8  \n",
      " 16  cabin_letter_D     418 non-null    uint8  \n",
      " 17  cabin_letter_E     418 non-null    uint8  \n",
      " 18  cabin_letter_F     418 non-null    uint8  \n",
      " 19  cabin_letter_G     418 non-null    uint8  \n",
      " 20  cabin_letter_T     418 non-null    int64  \n",
      " 21  name_title_Dr      418 non-null    uint8  \n",
      " 22  name_title_Master  418 non-null    uint8  \n",
      " 23  name_title_Miss    418 non-null    uint8  \n",
      " 24  name_title_Mr      418 non-null    uint8  \n",
      " 25  name_title_Mrs     418 non-null    uint8  \n",
      " 26  name_title_Rare    418 non-null    uint8  \n",
      " 27  name_title_Rev     418 non-null    uint8  \n",
      "dtypes: float64(2), int64(6), uint8(20)\n",
      "memory usage: 34.4 KB\n"
     ]
    }
   ],
   "source": [
    "test.info()"
   ],
   "metadata": {
    "collapsed": false,
    "pycharm": {
     "name": "#%%\n"
    }
   }
  },
  {
   "cell_type": "markdown",
   "source": [
    "## Load pickle"
   ],
   "metadata": {
    "collapsed": false,
    "pycharm": {
     "name": "#%% md\n"
    }
   }
  },
  {
   "cell_type": "code",
   "execution_count": 34,
   "outputs": [],
   "source": [
    "pickle = utils.load_pickle_obj('./save_best_model/pickle_best_models')"
   ],
   "metadata": {
    "collapsed": false,
    "pycharm": {
     "name": "#%%\n"
    }
   }
  },
  {
   "cell_type": "code",
   "execution_count": 35,
   "outputs": [],
   "source": [
    "svc_best = pickle[0]\n",
    "xgb_best = pickle[1]\n",
    "voting_clf_best = pickle[2]\n",
    "\n",
    "model = keras.models.load_model(\"./save_best_model_pickle/keras_classifier3\")"
   ],
   "metadata": {
    "collapsed": false,
    "pycharm": {
     "name": "#%%\n"
    }
   }
  },
  {
   "cell_type": "code",
   "execution_count": 36,
   "outputs": [
    {
     "name": "stdout",
     "output_type": "stream",
     "text": [
      "Model: \"sequential_1\"\n",
      "_________________________________________________________________\n",
      " Layer (type)                Output Shape              Param #   \n",
      "=================================================================\n",
      " dense_4 (Dense)             (None, 16)                448       \n",
      "                                                                 \n",
      " dense_5 (Dense)             (None, 6)                 102       \n",
      "                                                                 \n",
      " dense_6 (Dense)             (None, 1)                 7         \n",
      "                                                                 \n",
      "=================================================================\n",
      "Total params: 557\n",
      "Trainable params: 557\n",
      "Non-trainable params: 0\n",
      "_________________________________________________________________\n"
     ]
    }
   ],
   "source": [
    "model.summary()"
   ],
   "metadata": {
    "collapsed": false,
    "pycharm": {
     "name": "#%%\n"
    }
   }
  },
  {
   "cell_type": "markdown",
   "source": [
    "### fit on all train data"
   ],
   "metadata": {
    "collapsed": false,
    "pycharm": {
     "name": "#%% md\n"
    }
   }
  },
  {
   "cell_type": "code",
   "execution_count": 37,
   "outputs": [
    {
     "name": "stdout",
     "output_type": "stream",
     "text": [
      "[14:11:33] WARNING: C:/Users/Administrator/workspace/xgboost-win64_release_1.6.0/src/learner.cc:627: \n",
      "Parameters: { \"colsample_bytre\" } might not be used.\n",
      "\n",
      "  This could be a false alarm, with some parameters getting used by language bindings but\n",
      "  then being mistakenly passed down to XGBoost core, or some parameter actually being used\n",
      "  but getting flagged wrongly here. Please open an issue if you find any such cases.\n",
      "\n",
      "\n",
      "Epoch 1/25\n",
      "28/28 [==============================] - 0s 1ms/step - loss: 0.4101 - accuracy: 0.8268\n",
      "Epoch 2/25\n",
      "28/28 [==============================] - 0s 1ms/step - loss: 0.4088 - accuracy: 0.8313\n",
      "Epoch 3/25\n",
      "28/28 [==============================] - 0s 2ms/step - loss: 0.4077 - accuracy: 0.8313\n",
      "Epoch 4/25\n",
      "28/28 [==============================] - 0s 1ms/step - loss: 0.4072 - accuracy: 0.8301\n",
      "Epoch 5/25\n",
      "28/28 [==============================] - 0s 582us/step - loss: 0.4063 - accuracy: 0.8335\n",
      "Epoch 6/25\n",
      "28/28 [==============================] - 0s 1ms/step - loss: 0.4061 - accuracy: 0.8313\n",
      "Epoch 7/25\n",
      "28/28 [==============================] - 0s 1ms/step - loss: 0.4059 - accuracy: 0.8346\n",
      "Epoch 8/25\n",
      "28/28 [==============================] - 0s 2ms/step - loss: 0.4041 - accuracy: 0.8324\n",
      "Epoch 9/25\n",
      "28/28 [==============================] - 0s 1ms/step - loss: 0.4046 - accuracy: 0.8346\n",
      "Epoch 10/25\n",
      "28/28 [==============================] - 0s 1ms/step - loss: 0.4046 - accuracy: 0.8346\n",
      "Epoch 11/25\n",
      "28/28 [==============================] - 0s 2ms/step - loss: 0.4033 - accuracy: 0.8346\n",
      "Epoch 12/25\n",
      "28/28 [==============================] - 0s 2ms/step - loss: 0.4040 - accuracy: 0.8358\n",
      "Epoch 13/25\n",
      "28/28 [==============================] - 0s 2ms/step - loss: 0.4024 - accuracy: 0.8324\n",
      "Epoch 14/25\n",
      "28/28 [==============================] - 0s 1ms/step - loss: 0.4019 - accuracy: 0.8346\n",
      "Epoch 15/25\n",
      "28/28 [==============================] - 0s 2ms/step - loss: 0.4016 - accuracy: 0.8324\n",
      "Epoch 16/25\n",
      "28/28 [==============================] - 0s 1ms/step - loss: 0.4014 - accuracy: 0.8324\n",
      "Epoch 17/25\n",
      "28/28 [==============================] - 0s 1ms/step - loss: 0.4020 - accuracy: 0.8380\n",
      "Epoch 18/25\n",
      "28/28 [==============================] - 0s 1ms/step - loss: 0.4015 - accuracy: 0.8324\n",
      "Epoch 19/25\n",
      "28/28 [==============================] - 0s 1ms/step - loss: 0.4011 - accuracy: 0.8335\n",
      "Epoch 20/25\n",
      "28/28 [==============================] - 0s 1ms/step - loss: 0.4008 - accuracy: 0.8335\n",
      "Epoch 21/25\n",
      "28/28 [==============================] - 0s 1ms/step - loss: 0.4001 - accuracy: 0.8335\n",
      "Epoch 22/25\n",
      "28/28 [==============================] - 0s 2ms/step - loss: 0.4000 - accuracy: 0.8335\n",
      "Epoch 23/25\n",
      "28/28 [==============================] - 0s 1ms/step - loss: 0.3999 - accuracy: 0.8324\n",
      "Epoch 24/25\n",
      "28/28 [==============================] - 0s 1ms/step - loss: 0.4008 - accuracy: 0.8380\n",
      "Epoch 25/25\n",
      "28/28 [==============================] - 0s 1ms/step - loss: 0.3997 - accuracy: 0.8346\n"
     ]
    },
    {
     "data": {
      "text/plain": "<keras.callbacks.History at 0x168db516620>"
     },
     "execution_count": 37,
     "metadata": {},
     "output_type": "execute_result"
    }
   ],
   "source": [
    "svc_best.fit(train.loc[:, train.columns != 'PassengerId'], train_target)\n",
    "xgb_best.fit(train.loc[:, train.columns != 'PassengerId'], train_target)\n",
    "voting_clf_best.fit(train.loc[:, train.columns != 'PassengerId'], train_target)\n",
    "model.fit(train.loc[:, train.columns != 'PassengerId'], train_target, epochs =25)"
   ],
   "metadata": {
    "collapsed": false,
    "pycharm": {
     "name": "#%%\n"
    }
   }
  },
  {
   "cell_type": "code",
   "execution_count": 38,
   "outputs": [],
   "source": [
    "import numpy as np\n",
    "\n",
    "y_hat_svc_best = svc_best.predict(test.loc[:, test.columns != 'PassengerId']).astype(int)\n",
    "y_hat_xgb_best = xgb_best.predict(test.loc[:, test.columns != 'PassengerId']).astype(int)\n",
    "y_hat_voting_clf_best = voting_clf_best.predict(test.loc[:, test.columns != 'PassengerId']).astype(int)\n",
    "y_hat_model = np.round(model.predict(test.loc[:, test.columns != 'PassengerId'])).astype(int)"
   ],
   "metadata": {
    "collapsed": false,
    "pycharm": {
     "name": "#%%\n"
    }
   }
  },
  {
   "cell_type": "code",
   "execution_count": 39,
   "outputs": [
    {
     "data": {
      "text/plain": "(418,)"
     },
     "execution_count": 39,
     "metadata": {},
     "output_type": "execute_result"
    }
   ],
   "source": [
    "y_hat_model = y_hat_model[:,0]\n",
    "y_hat_model.shape"
   ],
   "metadata": {
    "collapsed": false,
    "pycharm": {
     "name": "#%%\n"
    }
   }
  },
  {
   "cell_type": "markdown",
   "source": [
    "## Convert results to dataframe"
   ],
   "metadata": {
    "collapsed": false,
    "pycharm": {
     "name": "#%% md\n"
    }
   }
  },
  {
   "cell_type": "code",
   "execution_count": 40,
   "outputs": [],
   "source": [
    "final_data = {'PassengerId': test.PassengerId, 'Survived': y_hat_svc_best}\n",
    "submission = pd.DataFrame(data=final_data)\n",
    "\n",
    "final_data_2 = {'PassengerId': test.PassengerId, 'Survived': y_hat_xgb_best}\n",
    "submission_2 = pd.DataFrame(data=final_data_2)\n",
    "\n",
    "final_data_3 = {'PassengerId': test.PassengerId, 'Survived': y_hat_voting_clf_best}\n",
    "submission_3 = pd.DataFrame(data=final_data_3)\n",
    "\n",
    "final_data_4 = {'PassengerId': test.PassengerId, 'Survived': y_hat_model}\n",
    "submission_4 = pd.DataFrame(data=final_data_4)"
   ],
   "metadata": {
    "collapsed": false,
    "pycharm": {
     "name": "#%%\n"
    }
   }
  },
  {
   "cell_type": "code",
   "execution_count": 41,
   "outputs": [],
   "source": [
    "final_data_comp = {'PassengerId': test.PassengerId, 'Survived_svc': y_hat_svc_best, 'Survived_xgb': y_hat_xgb_best, 'Survived_voting' : y_hat_voting_clf_best, 'Survived_model' : y_hat_model}\n",
    "comparison = pd.DataFrame(data=final_data_comp)"
   ],
   "metadata": {
    "collapsed": false,
    "pycharm": {
     "name": "#%%\n"
    }
   }
  },
  {
   "cell_type": "code",
   "execution_count": 42,
   "outputs": [],
   "source": [
    "#track differences between outputs\n",
    "comparison['difference_svc_xgb'] = comparison.apply(lambda x: 1 if x.Survived_svc != x.Survived_xgb else 0, axis =1)\n",
    "comparison['difference_svc_voting'] = comparison.apply(lambda x: 1 if x.Survived_svc != x.Survived_voting else 0, axis =1)\n",
    "comparison['difference_svc_model'] = comparison.apply(lambda x: 1 if x.Survived_model != x.Survived_svc else 0, axis =1)"
   ],
   "metadata": {
    "collapsed": false,
    "pycharm": {
     "name": "#%%\n"
    }
   }
  },
  {
   "cell_type": "code",
   "execution_count": 43,
   "outputs": [
    {
     "data": {
      "text/plain": "0    380\n1     38\nName: difference_svc_model, dtype: int64"
     },
     "execution_count": 43,
     "metadata": {},
     "output_type": "execute_result"
    }
   ],
   "source": [
    "comparison.difference_svc_model.value_counts()"
   ],
   "metadata": {
    "collapsed": false,
    "pycharm": {
     "name": "#%%\n"
    }
   }
  },
  {
   "cell_type": "markdown",
   "source": [
    "## Prepare to submit"
   ],
   "metadata": {
    "collapsed": false,
    "pycharm": {
     "name": "#%% md\n"
    }
   }
  },
  {
   "cell_type": "code",
   "execution_count": 44,
   "outputs": [],
   "source": [
    "#prepare submission files\n",
    "submission.to_csv('./submission/submission_svc.csv', index =False)\n",
    "submission_2.to_csv('./submission/submission_xgb.csv',index=False)\n",
    "submission_3.to_csv('./submission/submission_voting.csv', index=False)\n",
    "submission_4.to_csv('./submission/submission_model.csv', index=False)"
   ],
   "metadata": {
    "collapsed": false,
    "pycharm": {
     "name": "#%%\n"
    }
   }
  }
 ],
 "metadata": {
  "kernelspec": {
   "display_name": "Python 3",
   "language": "python",
   "name": "python3"
  },
  "language_info": {
   "codemirror_mode": {
    "name": "ipython",
    "version": 2
   },
   "file_extension": ".py",
   "mimetype": "text/x-python",
   "name": "python",
   "nbconvert_exporter": "python",
   "pygments_lexer": "ipython2",
   "version": "2.7.6"
  }
 },
 "nbformat": 4,
 "nbformat_minor": 0
}