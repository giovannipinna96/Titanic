{
 "cells": [
  {
   "cell_type": "markdown",
   "metadata": {
    "collapsed": true,
    "pycharm": {
     "name": "#%% md\n"
    }
   },
   "source": [
    "# Titanic model building"
   ]
  },
  {
   "cell_type": "code",
   "execution_count": 1,
   "outputs": [],
   "source": [
    "from pandas.core.common import SettingWithCopyWarning\n",
    "import warnings\n",
    "\n",
    "warnings.filterwarnings(\"ignore\", category=SettingWithCopyWarning)"
   ],
   "metadata": {
    "collapsed": false,
    "pycharm": {
     "name": "#%%\n"
    }
   }
  },
  {
   "cell_type": "code",
   "execution_count": 2,
   "outputs": [],
   "source": [
    "from loadDataUtils import loadDataUtils"
   ],
   "metadata": {
    "collapsed": false,
    "pycharm": {
     "name": "#%%\n"
    }
   }
  },
  {
   "cell_type": "code",
   "execution_count": 3,
   "outputs": [],
   "source": [
    "path_train = r'C:\\Users\\39320\\Desktop\\myProjects_python\\Titanic\\data\\train.csv'\n",
    "path_test = r'C:\\Users\\39320\\Desktop\\myProjects_python\\Titanic\\data\\test.csv'\n",
    "data = loadDataUtils(path_train, path_test)"
   ],
   "metadata": {
    "collapsed": false,
    "pycharm": {
     "name": "#%%\n"
    }
   }
  },
  {
   "cell_type": "code",
   "execution_count": 4,
   "outputs": [],
   "source": [
    "df_train, df_test = data.get_train_and_test()"
   ],
   "metadata": {
    "collapsed": false,
    "pycharm": {
     "name": "#%%\n"
    }
   }
  },
  {
   "cell_type": "markdown",
   "source": [
    "### Clean data"
   ],
   "metadata": {
    "collapsed": false,
    "pycharm": {
     "name": "#%% md\n"
    }
   }
  },
  {
   "cell_type": "code",
   "execution_count": 5,
   "outputs": [
    {
     "name": "stdout",
     "output_type": "stream",
     "text": [
      "<class 'pandas.core.frame.DataFrame'>\n",
      "RangeIndex: 891 entries, 0 to 890\n",
      "Data columns (total 12 columns):\n",
      " #   Column       Non-Null Count  Dtype  \n",
      "---  ------       --------------  -----  \n",
      " 0   PassengerId  891 non-null    int64  \n",
      " 1   Survived     891 non-null    int64  \n",
      " 2   Pclass       891 non-null    int64  \n",
      " 3   Name         891 non-null    object \n",
      " 4   Sex          891 non-null    object \n",
      " 5   Age          714 non-null    float64\n",
      " 6   SibSp        891 non-null    int64  \n",
      " 7   Parch        891 non-null    int64  \n",
      " 8   Ticket       891 non-null    object \n",
      " 9   Fare         891 non-null    float64\n",
      " 10  Cabin        204 non-null    object \n",
      " 11  Embarked     889 non-null    object \n",
      "dtypes: float64(2), int64(5), object(5)\n",
      "memory usage: 83.7+ KB\n"
     ]
    }
   ],
   "source": [
    "df_train.info()"
   ],
   "metadata": {
    "collapsed": false,
    "pycharm": {
     "name": "#%%\n"
    }
   }
  },
  {
   "cell_type": "code",
   "execution_count": 6,
   "outputs": [],
   "source": [
    "from titanicPreprocessing import preprocess"
   ],
   "metadata": {
    "collapsed": false,
    "pycharm": {
     "name": "#%%\n"
    }
   }
  },
  {
   "cell_type": "code",
   "execution_count": 7,
   "outputs": [],
   "source": [
    "p = preprocess(df_train.copy(), df_test.copy())\n",
    "p.do_preprocess()"
   ],
   "metadata": {
    "collapsed": false,
    "pycharm": {
     "name": "#%%\n"
    }
   }
  },
  {
   "cell_type": "code",
   "execution_count": 8,
   "outputs": [],
   "source": [
    "train, test = p.get_data()"
   ],
   "metadata": {
    "collapsed": false,
    "pycharm": {
     "name": "#%%\n"
    }
   }
  },
  {
   "cell_type": "code",
   "execution_count": 9,
   "outputs": [
    {
     "name": "stdout",
     "output_type": "stream",
     "text": [
      "<class 'pandas.core.frame.DataFrame'>\n",
      "Int64Index: 889 entries, 0 to 890\n",
      "Data columns (total 39 columns):\n",
      " #   Column               Non-Null Count  Dtype  \n",
      "---  ------               --------------  -----  \n",
      " 0   PassengerId          889 non-null    int64  \n",
      " 1   Survived             889 non-null    int64  \n",
      " 2   Pclass               889 non-null    int64  \n",
      " 3   Age                  889 non-null    float64\n",
      " 4   SibSp                889 non-null    int64  \n",
      " 5   Parch                889 non-null    int64  \n",
      " 6   Fare                 889 non-null    float64\n",
      " 7   cabin_multiple       889 non-null    int64  \n",
      " 8   Sex_female           889 non-null    uint8  \n",
      " 9   Sex_male             889 non-null    uint8  \n",
      " 10  Embarked_C           889 non-null    uint8  \n",
      " 11  Embarked_Q           889 non-null    uint8  \n",
      " 12  Embarked_S           889 non-null    uint8  \n",
      " 13  cabin_letter_0       889 non-null    uint8  \n",
      " 14  cabin_letter_A       889 non-null    uint8  \n",
      " 15  cabin_letter_B       889 non-null    uint8  \n",
      " 16  cabin_letter_C       889 non-null    uint8  \n",
      " 17  cabin_letter_D       889 non-null    uint8  \n",
      " 18  cabin_letter_E       889 non-null    uint8  \n",
      " 19  cabin_letter_F       889 non-null    uint8  \n",
      " 20  cabin_letter_G       889 non-null    uint8  \n",
      " 21  cabin_letter_T       889 non-null    uint8  \n",
      " 22  name_title_Capt      889 non-null    uint8  \n",
      " 23  name_title_Col       889 non-null    uint8  \n",
      " 24  name_title_Countess  889 non-null    uint8  \n",
      " 25  name_title_Don       889 non-null    uint8  \n",
      " 26  name_title_Dr        889 non-null    uint8  \n",
      " 27  name_title_Jonkheer  889 non-null    uint8  \n",
      " 28  name_title_Lady      889 non-null    uint8  \n",
      " 29  name_title_Major     889 non-null    uint8  \n",
      " 30  name_title_Master    889 non-null    uint8  \n",
      " 31  name_title_Miss      889 non-null    uint8  \n",
      " 32  name_title_Mlle      889 non-null    uint8  \n",
      " 33  name_title_Mme       889 non-null    uint8  \n",
      " 34  name_title_Mr        889 non-null    uint8  \n",
      " 35  name_title_Mrs       889 non-null    uint8  \n",
      " 36  name_title_Ms        889 non-null    uint8  \n",
      " 37  name_title_Rev       889 non-null    uint8  \n",
      " 38  name_title_Sir       889 non-null    uint8  \n",
      "dtypes: float64(2), int64(6), uint8(31)\n",
      "memory usage: 121.7 KB\n"
     ]
    }
   ],
   "source": [
    "train.info()"
   ],
   "metadata": {
    "collapsed": false,
    "pycharm": {
     "name": "#%%\n"
    }
   }
  },
  {
   "cell_type": "markdown",
   "source": [
    "## Model building"
   ],
   "metadata": {
    "collapsed": false,
    "pycharm": {
     "name": "#%% md\n"
    }
   }
  },
  {
   "cell_type": "code",
   "execution_count": null,
   "outputs": [],
   "source": [],
   "metadata": {
    "collapsed": false,
    "pycharm": {
     "name": "#%%\n"
    }
   }
  }
 ],
 "metadata": {
  "kernelspec": {
   "display_name": "Python 3",
   "language": "python",
   "name": "python3"
  },
  "language_info": {
   "codemirror_mode": {
    "name": "ipython",
    "version": 2
   },
   "file_extension": ".py",
   "mimetype": "text/x-python",
   "name": "python",
   "nbconvert_exporter": "python",
   "pygments_lexer": "ipython2",
   "version": "2.7.6"
  }
 },
 "nbformat": 4,
 "nbformat_minor": 0
}