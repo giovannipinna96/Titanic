{
 "cells": [
  {
   "cell_type": "markdown",
   "metadata": {
    "collapsed": true,
    "pycharm": {
     "name": "#%% md\n"
    }
   },
   "source": [
    "# Titanic simple model"
   ]
  },
  {
   "cell_type": "code",
   "execution_count": 2,
   "outputs": [],
   "source": [
    "from pandas.core.common import SettingWithCopyWarning\n",
    "import warnings\n",
    "from tensorflow import keras\n",
    "import utils\n",
    "import pandas as pd\n",
    "\n",
    "warnings.filterwarnings(\"ignore\", category=SettingWithCopyWarning)"
   ],
   "metadata": {
    "collapsed": false,
    "pycharm": {
     "name": "#%%\n"
    }
   }
  },
  {
   "cell_type": "code",
   "execution_count": 3,
   "outputs": [],
   "source": [
    "from loadDataUtils import loadDataUtils"
   ],
   "metadata": {
    "collapsed": false,
    "pycharm": {
     "name": "#%%\n"
    }
   }
  },
  {
   "cell_type": "code",
   "execution_count": 4,
   "outputs": [],
   "source": [
    "path_train = r'C:\\Users\\39320\\Desktop\\myProjects_python\\Titanic\\data\\train.csv'\n",
    "path_test = r'C:\\Users\\39320\\Desktop\\myProjects_python\\Titanic\\data\\test.csv'\n",
    "data = loadDataUtils(path_train, path_test)"
   ],
   "metadata": {
    "collapsed": false,
    "pycharm": {
     "name": "#%%\n"
    }
   }
  },
  {
   "cell_type": "code",
   "execution_count": 5,
   "outputs": [],
   "source": [
    "df_train, df_test = data.get_train_and_test()"
   ],
   "metadata": {
    "collapsed": false,
    "pycharm": {
     "name": "#%%\n"
    }
   }
  },
  {
   "cell_type": "markdown",
   "source": [
    "### Clean data"
   ],
   "metadata": {
    "collapsed": false
   }
  },
  {
   "cell_type": "code",
   "execution_count": 6,
   "outputs": [],
   "source": [
    "from titanicPreprocessing import preprocess\n",
    "import numpy as np"
   ],
   "metadata": {
    "collapsed": false,
    "pycharm": {
     "name": "#%%\n"
    }
   }
  },
  {
   "cell_type": "code",
   "execution_count": 7,
   "outputs": [],
   "source": [
    "p = preprocess(df_train.copy(), df_test.copy())\n",
    "p.do_preprocess()"
   ],
   "metadata": {
    "collapsed": false,
    "pycharm": {
     "name": "#%%\n"
    }
   }
  },
  {
   "cell_type": "code",
   "execution_count": 8,
   "outputs": [],
   "source": [
    "train, test = p.get_data()"
   ],
   "metadata": {
    "collapsed": false,
    "pycharm": {
     "name": "#%%\n"
    }
   }
  },
  {
   "cell_type": "code",
   "execution_count": 9,
   "outputs": [],
   "source": [
    "train_target = train['Survived']\n",
    "train.drop(columns=['Survived'], inplace=True)"
   ],
   "metadata": {
    "collapsed": false,
    "pycharm": {
     "name": "#%%\n"
    }
   }
  },
  {
   "cell_type": "code",
   "execution_count": 10,
   "outputs": [
    {
     "name": "stdout",
     "output_type": "stream",
     "text": [
      "<class 'pandas.core.frame.DataFrame'>\n",
      "Int64Index: 889 entries, 0 to 890\n",
      "Data columns (total 28 columns):\n",
      " #   Column             Non-Null Count  Dtype  \n",
      "---  ------             --------------  -----  \n",
      " 0   PassengerId        889 non-null    int64  \n",
      " 1   Pclass             889 non-null    int64  \n",
      " 2   Age                889 non-null    float64\n",
      " 3   SibSp              889 non-null    int64  \n",
      " 4   Parch              889 non-null    int64  \n",
      " 5   Fare               889 non-null    float64\n",
      " 6   cabin_multiple     889 non-null    int64  \n",
      " 7   Sex_female         889 non-null    uint8  \n",
      " 8   Sex_male           889 non-null    uint8  \n",
      " 9   Embarked_C         889 non-null    uint8  \n",
      " 10  Embarked_Q         889 non-null    uint8  \n",
      " 11  Embarked_S         889 non-null    uint8  \n",
      " 12  cabin_letter_0     889 non-null    uint8  \n",
      " 13  cabin_letter_A     889 non-null    uint8  \n",
      " 14  cabin_letter_B     889 non-null    uint8  \n",
      " 15  cabin_letter_C     889 non-null    uint8  \n",
      " 16  cabin_letter_D     889 non-null    uint8  \n",
      " 17  cabin_letter_E     889 non-null    uint8  \n",
      " 18  cabin_letter_F     889 non-null    uint8  \n",
      " 19  cabin_letter_G     889 non-null    uint8  \n",
      " 20  cabin_letter_T     889 non-null    uint8  \n",
      " 21  name_title_Dr      889 non-null    uint8  \n",
      " 22  name_title_Master  889 non-null    uint8  \n",
      " 23  name_title_Miss    889 non-null    uint8  \n",
      " 24  name_title_Mr      889 non-null    uint8  \n",
      " 25  name_title_Mrs     889 non-null    uint8  \n",
      " 26  name_title_Rare    889 non-null    uint8  \n",
      " 27  name_title_Rev     889 non-null    uint8  \n",
      "dtypes: float64(2), int64(5), uint8(21)\n",
      "memory usage: 106.1 KB\n"
     ]
    }
   ],
   "source": [
    "train.info()"
   ],
   "metadata": {
    "collapsed": false,
    "pycharm": {
     "name": "#%%\n"
    }
   }
  },
  {
   "cell_type": "code",
   "execution_count": 11,
   "outputs": [],
   "source": [
    "test.insert(20, 'cabin_letter_T', 0)"
   ],
   "metadata": {
    "collapsed": false,
    "pycharm": {
     "name": "#%%\n"
    }
   }
  },
  {
   "cell_type": "code",
   "execution_count": 12,
   "outputs": [
    {
     "name": "stdout",
     "output_type": "stream",
     "text": [
      "<class 'pandas.core.frame.DataFrame'>\n",
      "RangeIndex: 418 entries, 0 to 417\n",
      "Data columns (total 28 columns):\n",
      " #   Column             Non-Null Count  Dtype  \n",
      "---  ------             --------------  -----  \n",
      " 0   PassengerId        418 non-null    int64  \n",
      " 1   Pclass             418 non-null    int64  \n",
      " 2   Age                418 non-null    float64\n",
      " 3   SibSp              418 non-null    int64  \n",
      " 4   Parch              418 non-null    int64  \n",
      " 5   Fare               418 non-null    float64\n",
      " 6   cabin_multiple     418 non-null    int64  \n",
      " 7   Sex_female         418 non-null    uint8  \n",
      " 8   Sex_male           418 non-null    uint8  \n",
      " 9   Embarked_C         418 non-null    uint8  \n",
      " 10  Embarked_Q         418 non-null    uint8  \n",
      " 11  Embarked_S         418 non-null    uint8  \n",
      " 12  cabin_letter_0     418 non-null    uint8  \n",
      " 13  cabin_letter_A     418 non-null    uint8  \n",
      " 14  cabin_letter_B     418 non-null    uint8  \n",
      " 15  cabin_letter_C     418 non-null    uint8  \n",
      " 16  cabin_letter_D     418 non-null    uint8  \n",
      " 17  cabin_letter_E     418 non-null    uint8  \n",
      " 18  cabin_letter_F     418 non-null    uint8  \n",
      " 19  cabin_letter_G     418 non-null    uint8  \n",
      " 20  cabin_letter_T     418 non-null    int64  \n",
      " 21  name_title_Dr      418 non-null    uint8  \n",
      " 22  name_title_Master  418 non-null    uint8  \n",
      " 23  name_title_Miss    418 non-null    uint8  \n",
      " 24  name_title_Mr      418 non-null    uint8  \n",
      " 25  name_title_Mrs     418 non-null    uint8  \n",
      " 26  name_title_Rare    418 non-null    uint8  \n",
      " 27  name_title_Rev     418 non-null    uint8  \n",
      "dtypes: float64(2), int64(6), uint8(20)\n",
      "memory usage: 34.4 KB\n"
     ]
    }
   ],
   "source": [
    "test.info()"
   ],
   "metadata": {
    "collapsed": false,
    "pycharm": {
     "name": "#%%\n"
    }
   }
  },
  {
   "cell_type": "markdown",
   "source": [
    "## Drop not important columns"
   ],
   "metadata": {
    "collapsed": false
   }
  },
  {
   "cell_type": "code",
   "execution_count": 13,
   "outputs": [],
   "source": [
    "train.drop(columns=['Embarked_C'], inplace=True)\n",
    "train.drop(columns=['Embarked_Q'], inplace=True)\n",
    "train.drop(columns=['Embarked_S'], inplace=True)\n",
    "\n",
    "train.drop(columns=['cabin_letter_0'], inplace=True)\n",
    "train.drop(columns=['cabin_letter_A'], inplace=True)\n",
    "train.drop(columns=['cabin_letter_B'], inplace=True)\n",
    "train.drop(columns=['cabin_letter_C'], inplace=True)\n",
    "train.drop(columns=['cabin_letter_D'], inplace=True)\n",
    "train.drop(columns=['cabin_letter_E'], inplace=True)\n",
    "train.drop(columns=['cabin_letter_F'], inplace=True)\n",
    "train.drop(columns=['cabin_letter_G'], inplace=True)\n",
    "train.drop(columns=['cabin_letter_T'], inplace=True)\n",
    "\n",
    "test.drop(columns=['Embarked_C'], inplace=True)\n",
    "test.drop(columns=['Embarked_Q'], inplace=True)\n",
    "test.drop(columns=['Embarked_S'], inplace=True)\n",
    "\n",
    "test.drop(columns=['cabin_letter_0'], inplace=True)\n",
    "test.drop(columns=['cabin_letter_A'], inplace=True)\n",
    "test.drop(columns=['cabin_letter_B'], inplace=True)\n",
    "test.drop(columns=['cabin_letter_C'], inplace=True)\n",
    "test.drop(columns=['cabin_letter_D'], inplace=True)\n",
    "test.drop(columns=['cabin_letter_E'], inplace=True)\n",
    "test.drop(columns=['cabin_letter_F'], inplace=True)\n",
    "test.drop(columns=['cabin_letter_G'], inplace=True)\n",
    "test.drop(columns=['cabin_letter_T'], inplace=True)"
   ],
   "metadata": {
    "collapsed": false,
    "pycharm": {
     "name": "#%%\n"
    }
   }
  },
  {
   "cell_type": "code",
   "execution_count": 14,
   "outputs": [],
   "source": [
    "from sklearn.model_selection import train_test_split\n",
    "\n",
    "X_train, X_test, y_train, y_test = train_test_split(train, train_target, test_size=0.3, random_state=42)"
   ],
   "metadata": {
    "collapsed": false,
    "pycharm": {
     "name": "#%%\n"
    }
   }
  },
  {
   "cell_type": "code",
   "execution_count": 15,
   "outputs": [],
   "source": [
    "param_grid_lr = {'max_iter' : [2000],\n",
    "              'penalty' : ['l1', 'l2'],\n",
    "              'C' : np.logspace(-4, 4, 20),\n",
    "              'solver' : ['liblinear']}\n",
    "\n",
    "param_grid_knn = {'n_neighbors' : [3,5,7,9],\n",
    "              'weights' : ['uniform', 'distance'],\n",
    "              'algorithm' : ['auto', 'ball_tree','kd_tree'],\n",
    "              'p' : [1,2]}\n",
    "\n",
    "param_grid_svc = tuned_parameters = [{'kernel': ['rbf'], 'gamma': [.1,.5,1,2,5,10],\n",
    "                                  'C': [.1, 1, 10, 100, 1000]},\n",
    "                                 {'kernel': ['linear'], 'C': [.1, 1, 10, 100, 1000]},\n",
    "                                 {'kernel': ['poly'], 'degree' : [2,3,4,5], 'C': [.1, 1, 10, 100, 1000]}]\n",
    "\n",
    "param_grid_rf =  {'n_estimators': [100,500,1000],\n",
    "                                  'bootstrap': [True,False],\n",
    "                                  'max_depth': [3,5,10,20,50,75,100,None],\n",
    "                                  'max_features': ['auto','sqrt'],\n",
    "                                  'min_samples_leaf': [1,2,4,10],\n",
    "                                  'min_samples_split': [2,5,10]}\n",
    "\n",
    "param_grid_xgb = {\n",
    "    'n_estimators': [20, 50, 100, 250, 500,1000],\n",
    "    'colsample_bytree': [0.2, 0.5, 0.7, 0.8, 1],\n",
    "    'max_depth': [2, 5, 10, 15, 20, 25, None],\n",
    "    'reg_alpha': [0, 0.5, 1],\n",
    "    'reg_lambda': [1, 1.5, 2],\n",
    "    'subsample': [0.5,0.6,0.7, 0.8, 0.9],\n",
    "    'learning_rate':[.01,0.1,0.2,0.3,0.5, 0.7, 0.9],\n",
    "    'gamma':[0,.01,.1,1,10,100],\n",
    "    'min_child_weight':[0,.01,0.1,1,10,100],\n",
    "    'sampling_method': ['uniform', 'gradient_based']\n",
    "}"
   ],
   "metadata": {
    "collapsed": false,
    "pycharm": {
     "name": "#%%\n"
    }
   }
  },
  {
   "cell_type": "code",
   "execution_count": 16,
   "outputs": [],
   "source": [
    "from sklearn.model_selection import GridSearchCV\n",
    "from sklearn.model_selection import RandomizedSearchCV\n",
    "import numpy as np\n",
    "from sklearn.metrics import accuracy_score\n",
    "from utils import clf_performance"
   ],
   "metadata": {
    "collapsed": false,
    "pycharm": {
     "name": "#%%\n"
    }
   }
  },
  {
   "cell_type": "code",
   "execution_count": 17,
   "outputs": [],
   "source": [
    "from sklearn.ensemble import VotingClassifier\n",
    "from xgboost import XGBClassifier\n",
    "from sklearn.svm import SVC\n",
    "from sklearn.ensemble import RandomForestClassifier"
   ],
   "metadata": {
    "collapsed": false,
    "pycharm": {
     "name": "#%%\n"
    }
   }
  },
  {
   "cell_type": "code",
   "execution_count": 18,
   "outputs": [],
   "source": [
    "svc_g = SVC(probability = True)\n",
    "rf_g = RandomForestClassifier(random_state = 1)\n",
    "xgb_g = XGBClassifier(random_state = 1)"
   ],
   "metadata": {
    "collapsed": false,
    "pycharm": {
     "name": "#%%\n"
    }
   }
  },
  {
   "cell_type": "code",
   "execution_count": 19,
   "outputs": [
    {
     "name": "stdout",
     "output_type": "stream",
     "text": [
      "Fitting 5 folds for each of 55 candidates, totalling 275 fits\n",
      "SVC\n",
      "Best Score: 0.8392000000000002\n",
      "Best Parameters: {'C': 10, 'degree': 3, 'kernel': 'poly'}\n"
     ]
    }
   ],
   "source": [
    "clf_svc = GridSearchCV(svc_g, param_grid = param_grid_svc, cv = 5, verbose = True, n_jobs = -1)\n",
    "best_clf_svc = clf_svc.fit(X_train.loc[:, X_train.columns != 'PassengerId'],y_train)\n",
    "clf_performance(best_clf_svc,'SVC')"
   ],
   "metadata": {
    "collapsed": false,
    "pycharm": {
     "name": "#%%\n"
    }
   }
  },
  {
   "cell_type": "code",
   "execution_count": 20,
   "outputs": [
    {
     "data": {
      "text/plain": "0.8052434456928839"
     },
     "execution_count": 20,
     "metadata": {},
     "output_type": "execute_result"
    }
   ],
   "source": [
    "svc_best = SVC(C= 1, gamma= 0.5, kernel= 'rbf')\n",
    "svc_best.fit(X_train.loc[:, X_train.columns != 'PassengerId'],y_train)\n",
    "\n",
    "y_pred_best = svc_best.predict(X_test.loc[:, X_test.columns != 'PassengerId'])\n",
    "accuracy_score(y_pred_best, y_test)"
   ],
   "metadata": {
    "collapsed": false,
    "pycharm": {
     "name": "#%%\n"
    }
   }
  },
  {
   "cell_type": "code",
   "execution_count": 21,
   "outputs": [
    {
     "name": "stdout",
     "output_type": "stream",
     "text": [
      "Fitting 5 folds for each of 1152 candidates, totalling 5760 fits\n",
      "Random Forest\n",
      "Best Score: 0.8617677419354838\n",
      "Best Parameters: {'bootstrap': True, 'max_depth': 10, 'max_features': 'auto', 'min_samples_leaf': 2, 'min_samples_split': 2, 'n_estimators': 100}\n"
     ]
    }
   ],
   "source": [
    "# very long to perform\n",
    "clf_rf = GridSearchCV(rf_g, param_grid = param_grid_rf, cv = 5, verbose = True, n_jobs = -1)\n",
    "best_clf_rf = clf_rf.fit(X_train.loc[:, X_train.columns != 'PassengerId'],y_train)\n",
    "clf_performance(best_clf_rf,'Random Forest')"
   ],
   "metadata": {
    "collapsed": false,
    "pycharm": {
     "name": "#%%\n"
    }
   }
  },
  {
   "cell_type": "code",
   "execution_count": null,
   "outputs": [],
   "source": [
    "from sklearn.ensemble import RandomForestClassifier\n",
    "\n",
    "rf_best = RandomForestClassifier(bootstrap= False, max_depth= 50, max_features= 'auto', min_samples_leaf= 2, min_samples_split= 10, n_estimators= 500)\n",
    "rf_best.fit(X_train.loc[:, X_train.columns != 'PassengerId'],y_train)\n",
    "pred_rf_best = rf_best.predict(X_test.loc[:, X_test.columns != 'PassengerId'])\n",
    "accuracy_score(pred_rf_best, y_test)"
   ],
   "metadata": {
    "collapsed": false,
    "pycharm": {
     "name": "#%%\n",
     "is_executing": true
    }
   }
  },
  {
   "cell_type": "code",
   "execution_count": null,
   "outputs": [],
   "source": [
    "clf_xgb = RandomizedSearchCV(xgb_g, param_grid = param_grid_xgb, cv = 5, verbose = True, n_jobs = -1)\n",
    "best_clf_xgb = clf_xgb.fit(X_train.loc[:, X_train.columns != 'PassengerId'],y_train)\n",
    "clf_performance(best_clf_xgb,'XGB')"
   ],
   "metadata": {
    "collapsed": false,
    "pycharm": {
     "name": "#%%\n",
     "is_executing": true
    }
   }
  },
  {
   "cell_type": "code",
   "execution_count": null,
   "outputs": [],
   "source": [
    "xgb_best = XGBClassifier(colsample_bytre= 0.75, gamma= 1, learning_rate= 0.5, max_depth= None, min_child_weight= 0.01, n_estimators= 450, reg_alpha= 1, reg_lambda= 5, sampling_method= 'uniform', subsample= 0.6)\n",
    "xgb_best.fit(X_train.loc[:, X_train.columns != 'PassengerId'],y_train)\n",
    "\n",
    "y_pred_best_xgb = xgb_best.predict(X_test.loc[:, X_test.columns != 'PassengerId'])\n",
    "accuracy_score(y_pred_best_xgb, y_test)"
   ],
   "metadata": {
    "collapsed": false,
    "pycharm": {
     "name": "#%%\n",
     "is_executing": true
    }
   }
  },
  {
   "cell_type": "code",
   "execution_count": null,
   "outputs": [],
   "source": [],
   "metadata": {
    "collapsed": false,
    "pycharm": {
     "name": "#%%\n"
    }
   }
  }
 ],
 "metadata": {
  "kernelspec": {
   "display_name": "Python 3",
   "language": "python",
   "name": "python3"
  },
  "language_info": {
   "codemirror_mode": {
    "name": "ipython",
    "version": 2
   },
   "file_extension": ".py",
   "mimetype": "text/x-python",
   "name": "python",
   "nbconvert_exporter": "python",
   "pygments_lexer": "ipython2",
   "version": "2.7.6"
  }
 },
 "nbformat": 4,
 "nbformat_minor": 0
}