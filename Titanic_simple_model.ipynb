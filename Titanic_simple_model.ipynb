{
 "cells": [
  {
   "cell_type": "markdown",
   "metadata": {
    "collapsed": true,
    "pycharm": {
     "name": "#%% md\n"
    }
   },
   "source": [
    "# Titanic simple model"
   ]
  },
  {
   "cell_type": "code",
   "execution_count": 83,
   "outputs": [],
   "source": [
    "from pandas.core.common import SettingWithCopyWarning\n",
    "import warnings\n",
    "from tensorflow import keras\n",
    "import utils\n",
    "import pandas as pd\n",
    "\n",
    "warnings.filterwarnings(\"ignore\", category=SettingWithCopyWarning)"
   ],
   "metadata": {
    "collapsed": false,
    "pycharm": {
     "name": "#%%\n"
    }
   }
  },
  {
   "cell_type": "code",
   "execution_count": 84,
   "outputs": [],
   "source": [
    "from loadDataUtils import loadDataUtils"
   ],
   "metadata": {
    "collapsed": false,
    "pycharm": {
     "name": "#%%\n"
    }
   }
  },
  {
   "cell_type": "code",
   "execution_count": 85,
   "outputs": [],
   "source": [
    "path_train = r'C:\\Users\\39320\\Desktop\\myProjects_python\\Titanic\\data\\train.csv'\n",
    "path_test = r'C:\\Users\\39320\\Desktop\\myProjects_python\\Titanic\\data\\test.csv'\n",
    "data = loadDataUtils(path_train, path_test)"
   ],
   "metadata": {
    "collapsed": false,
    "pycharm": {
     "name": "#%%\n"
    }
   }
  },
  {
   "cell_type": "code",
   "execution_count": 86,
   "outputs": [],
   "source": [
    "df_train, df_test = data.get_train_and_test()"
   ],
   "metadata": {
    "collapsed": false,
    "pycharm": {
     "name": "#%%\n"
    }
   }
  },
  {
   "cell_type": "markdown",
   "source": [
    "### Clean data"
   ],
   "metadata": {
    "collapsed": false
   }
  },
  {
   "cell_type": "code",
   "execution_count": 87,
   "outputs": [],
   "source": [
    "from titanicPreprocessing import preprocess\n",
    "import numpy as np"
   ],
   "metadata": {
    "collapsed": false,
    "pycharm": {
     "name": "#%%\n"
    }
   }
  },
  {
   "cell_type": "code",
   "execution_count": 88,
   "outputs": [],
   "source": [
    "p = preprocess(df_train.copy(), df_test.copy())\n",
    "p.do_preprocess()"
   ],
   "metadata": {
    "collapsed": false,
    "pycharm": {
     "name": "#%%\n"
    }
   }
  },
  {
   "cell_type": "code",
   "execution_count": 89,
   "outputs": [],
   "source": [
    "train, test = p.get_data()"
   ],
   "metadata": {
    "collapsed": false,
    "pycharm": {
     "name": "#%%\n"
    }
   }
  },
  {
   "cell_type": "code",
   "execution_count": 90,
   "outputs": [],
   "source": [
    "train_target = train['Survived']\n",
    "train.drop(columns=['Survived'], inplace=True)"
   ],
   "metadata": {
    "collapsed": false,
    "pycharm": {
     "name": "#%%\n"
    }
   }
  },
  {
   "cell_type": "code",
   "execution_count": 91,
   "outputs": [
    {
     "name": "stdout",
     "output_type": "stream",
     "text": [
      "<class 'pandas.core.frame.DataFrame'>\n",
      "Int64Index: 889 entries, 0 to 890\n",
      "Data columns (total 22 columns):\n",
      " #   Column           Non-Null Count  Dtype  \n",
      "---  ------           --------------  -----  \n",
      " 0   PassengerId      889 non-null    int64  \n",
      " 1   Pclass           889 non-null    int64  \n",
      " 2   Age              889 non-null    float64\n",
      " 3   SibSp            889 non-null    int64  \n",
      " 4   Parch            889 non-null    int64  \n",
      " 5   Fare             889 non-null    float64\n",
      " 6   cabin_multiple   889 non-null    int64  \n",
      " 7   Sex_female       889 non-null    uint8  \n",
      " 8   Sex_male         889 non-null    uint8  \n",
      " 9   Embarked_C       889 non-null    uint8  \n",
      " 10  Embarked_Q       889 non-null    uint8  \n",
      " 11  Embarked_S       889 non-null    uint8  \n",
      " 12  cabin_letter_0   889 non-null    uint8  \n",
      " 13  cabin_letter_A   889 non-null    uint8  \n",
      " 14  cabin_letter_B   889 non-null    uint8  \n",
      " 15  cabin_letter_C   889 non-null    uint8  \n",
      " 16  cabin_letter_D   889 non-null    uint8  \n",
      " 17  cabin_letter_E   889 non-null    uint8  \n",
      " 18  cabin_letter_F   889 non-null    uint8  \n",
      " 19  cabin_letter_G   889 non-null    uint8  \n",
      " 20  cabin_letter_T   889 non-null    uint8  \n",
      " 21  name_title_Rare  889 non-null    uint8  \n",
      "dtypes: float64(2), int64(5), uint8(15)\n",
      "memory usage: 100.9 KB\n"
     ]
    }
   ],
   "source": [
    "train.info()"
   ],
   "metadata": {
    "collapsed": false,
    "pycharm": {
     "name": "#%%\n"
    }
   }
  },
  {
   "cell_type": "code",
   "execution_count": 92,
   "outputs": [],
   "source": [
    "test.insert(20, 'cabin_letter_T', 0)"
   ],
   "metadata": {
    "collapsed": false,
    "pycharm": {
     "name": "#%%\n"
    }
   }
  },
  {
   "cell_type": "code",
   "execution_count": 93,
   "outputs": [
    {
     "name": "stdout",
     "output_type": "stream",
     "text": [
      "<class 'pandas.core.frame.DataFrame'>\n",
      "RangeIndex: 418 entries, 0 to 417\n",
      "Data columns (total 22 columns):\n",
      " #   Column           Non-Null Count  Dtype  \n",
      "---  ------           --------------  -----  \n",
      " 0   PassengerId      418 non-null    int64  \n",
      " 1   Pclass           418 non-null    int64  \n",
      " 2   Age              418 non-null    float64\n",
      " 3   SibSp            418 non-null    int64  \n",
      " 4   Parch            418 non-null    int64  \n",
      " 5   Fare             418 non-null    float64\n",
      " 6   cabin_multiple   418 non-null    int64  \n",
      " 7   Sex_female       418 non-null    uint8  \n",
      " 8   Sex_male         418 non-null    uint8  \n",
      " 9   Embarked_C       418 non-null    uint8  \n",
      " 10  Embarked_Q       418 non-null    uint8  \n",
      " 11  Embarked_S       418 non-null    uint8  \n",
      " 12  cabin_letter_0   418 non-null    uint8  \n",
      " 13  cabin_letter_A   418 non-null    uint8  \n",
      " 14  cabin_letter_B   418 non-null    uint8  \n",
      " 15  cabin_letter_C   418 non-null    uint8  \n",
      " 16  cabin_letter_D   418 non-null    uint8  \n",
      " 17  cabin_letter_E   418 non-null    uint8  \n",
      " 18  cabin_letter_F   418 non-null    uint8  \n",
      " 19  cabin_letter_G   418 non-null    uint8  \n",
      " 20  cabin_letter_T   418 non-null    int64  \n",
      " 21  name_title_Rare  418 non-null    uint8  \n",
      "dtypes: float64(2), int64(6), uint8(14)\n",
      "memory usage: 32.0 KB\n"
     ]
    }
   ],
   "source": [
    "test.info()"
   ],
   "metadata": {
    "collapsed": false,
    "pycharm": {
     "name": "#%%\n"
    }
   }
  },
  {
   "cell_type": "markdown",
   "source": [
    "## Drop not important columns"
   ],
   "metadata": {
    "collapsed": false
   }
  },
  {
   "cell_type": "code",
   "execution_count": 94,
   "outputs": [],
   "source": [
    "train.drop(columns=['Embarked_C'], inplace=True)\n",
    "train.drop(columns=['Embarked_Q'], inplace=True)\n",
    "train.drop(columns=['Embarked_S'], inplace=True)\n",
    "\n",
    "train.drop(columns=['cabin_letter_0'], inplace=True)\n",
    "train.drop(columns=['cabin_letter_A'], inplace=True)\n",
    "train.drop(columns=['cabin_letter_B'], inplace=True)\n",
    "train.drop(columns=['cabin_letter_C'], inplace=True)\n",
    "train.drop(columns=['cabin_letter_D'], inplace=True)\n",
    "train.drop(columns=['cabin_letter_E'], inplace=True)\n",
    "train.drop(columns=['cabin_letter_F'], inplace=True)\n",
    "train.drop(columns=['cabin_letter_G'], inplace=True)\n",
    "train.drop(columns=['cabin_letter_T'], inplace=True)\n",
    "train.drop(columns=['name_title_Rare'], inplace=True)\n",
    "\n",
    "test.drop(columns=['Embarked_C'], inplace=True)\n",
    "test.drop(columns=['Embarked_Q'], inplace=True)\n",
    "test.drop(columns=['Embarked_S'], inplace=True)\n",
    "\n",
    "test.drop(columns=['cabin_letter_0'], inplace=True)\n",
    "test.drop(columns=['cabin_letter_A'], inplace=True)\n",
    "test.drop(columns=['cabin_letter_B'], inplace=True)\n",
    "test.drop(columns=['cabin_letter_C'], inplace=True)\n",
    "test.drop(columns=['cabin_letter_D'], inplace=True)\n",
    "test.drop(columns=['cabin_letter_E'], inplace=True)\n",
    "test.drop(columns=['cabin_letter_F'], inplace=True)\n",
    "test.drop(columns=['cabin_letter_G'], inplace=True)\n",
    "test.drop(columns=['cabin_letter_T'], inplace=True)\n",
    "test.drop(columns=['name_title_Rare'], inplace=True)"
   ],
   "metadata": {
    "collapsed": false,
    "pycharm": {
     "name": "#%%\n"
    }
   }
  },
  {
   "cell_type": "code",
   "execution_count": 95,
   "outputs": [
    {
     "name": "stdout",
     "output_type": "stream",
     "text": [
      "<class 'pandas.core.frame.DataFrame'>\n",
      "Int64Index: 889 entries, 0 to 890\n",
      "Data columns (total 9 columns):\n",
      " #   Column          Non-Null Count  Dtype  \n",
      "---  ------          --------------  -----  \n",
      " 0   PassengerId     889 non-null    int64  \n",
      " 1   Pclass          889 non-null    int64  \n",
      " 2   Age             889 non-null    float64\n",
      " 3   SibSp           889 non-null    int64  \n",
      " 4   Parch           889 non-null    int64  \n",
      " 5   Fare            889 non-null    float64\n",
      " 6   cabin_multiple  889 non-null    int64  \n",
      " 7   Sex_female      889 non-null    uint8  \n",
      " 8   Sex_male        889 non-null    uint8  \n",
      "dtypes: float64(2), int64(5), uint8(2)\n",
      "memory usage: 89.6 KB\n"
     ]
    }
   ],
   "source": [
    "train.info()"
   ],
   "metadata": {
    "collapsed": false,
    "pycharm": {
     "name": "#%%\n"
    }
   }
  },
  {
   "cell_type": "code",
   "execution_count": 96,
   "outputs": [],
   "source": [
    "from sklearn.model_selection import train_test_split\n",
    "\n",
    "X_train, X_test, y_train, y_test = train_test_split(train, train_target, test_size=0.3, random_state=42)"
   ],
   "metadata": {
    "collapsed": false,
    "pycharm": {
     "name": "#%%\n"
    }
   }
  },
  {
   "cell_type": "code",
   "execution_count": 97,
   "outputs": [],
   "source": [
    "param_grid_svc = tuned_parameters = [{'kernel': ['rbf'], 'gamma': [.1,.5,1,2,5,10],\n",
    "                                  'C': [.1, 1, 10, 100, 1000]},\n",
    "                                 {'kernel': ['linear'], 'C': [.1, 1, 10, 100, 1000]},\n",
    "                                 {'kernel': ['poly'], 'degree' : [2,3,4,5], 'C': [.1, 1, 10, 100, 1000]}]\n",
    "\n",
    "param_grid_rf =  {'n_estimators': [100,500,1000],\n",
    "                                  'bootstrap': [True,False],\n",
    "                                  'max_depth': [3,5,10,20,50,75,100,None],\n",
    "                                  'max_features': ['auto','sqrt'],\n",
    "                                  'min_samples_leaf': [1,2,4,10],\n",
    "                                  'min_samples_split': [2,5,10]}\n",
    "\n",
    "param_grid_xgb = {\n",
    "    'n_estimators': [20, 50, 100, 250, 500,1000],\n",
    "    'colsample_bytree': [0.2, 0.5, 0.7, 0.8, 1],\n",
    "    'max_depth': [2, 5, 10, 15, 20, 25, None],\n",
    "    'reg_alpha': [0, 0.5, 1],\n",
    "    'reg_lambda': [1, 1.5, 2],\n",
    "    'subsample': [0.5,0.6,0.7, 0.8, 0.9],\n",
    "    'learning_rate':[.01,0.1,0.2,0.3,0.5, 0.7, 0.9],\n",
    "    'gamma':[0,.01,.1,1,10,100],\n",
    "    'min_child_weight':[0,.01,0.1,1,10,100],\n",
    "    'sampling_method': ['uniform', 'gradient_based']\n",
    "}"
   ],
   "metadata": {
    "collapsed": false,
    "pycharm": {
     "name": "#%%\n"
    }
   }
  },
  {
   "cell_type": "code",
   "execution_count": 98,
   "outputs": [],
   "source": [
    "from sklearn.model_selection import GridSearchCV\n",
    "from sklearn.model_selection import RandomizedSearchCV\n",
    "import numpy as np\n",
    "from sklearn.metrics import accuracy_score\n",
    "from utils import clf_performance"
   ],
   "metadata": {
    "collapsed": false,
    "pycharm": {
     "name": "#%%\n"
    }
   }
  },
  {
   "cell_type": "code",
   "execution_count": 99,
   "outputs": [],
   "source": [
    "from sklearn.ensemble import VotingClassifier\n",
    "from xgboost import XGBClassifier\n",
    "from sklearn.svm import SVC\n",
    "from sklearn.ensemble import RandomForestClassifier"
   ],
   "metadata": {
    "collapsed": false,
    "pycharm": {
     "name": "#%%\n"
    }
   }
  },
  {
   "cell_type": "code",
   "execution_count": 100,
   "outputs": [],
   "source": [
    "svc_g = SVC(probability = True)\n",
    "rf_g = RandomForestClassifier(random_state = 1)\n",
    "xgb_g = XGBClassifier(random_state = 1)"
   ],
   "metadata": {
    "collapsed": false,
    "pycharm": {
     "name": "#%%\n"
    }
   }
  },
  {
   "cell_type": "code",
   "execution_count": 101,
   "outputs": [
    {
     "name": "stdout",
     "output_type": "stream",
     "text": [
      "Fitting 5 folds for each of 55 candidates, totalling 275 fits\n",
      "SVC\n",
      "Best Score: 0.8327483870967741\n",
      "Best Parameters: {'C': 10, 'degree': 3, 'kernel': 'poly'}\n"
     ]
    }
   ],
   "source": [
    "clf_svc = GridSearchCV(svc_g, param_grid = param_grid_svc, cv = 5, verbose = True, n_jobs = -1)\n",
    "best_clf_svc = clf_svc.fit(X_train.loc[:, X_train.columns != 'PassengerId'],y_train)\n",
    "clf_performance(best_clf_svc,'SVC')"
   ],
   "metadata": {
    "collapsed": false,
    "pycharm": {
     "name": "#%%\n"
    }
   }
  },
  {
   "cell_type": "code",
   "execution_count": 102,
   "outputs": [
    {
     "data": {
      "text/plain": "0.8014981273408239"
     },
     "execution_count": 102,
     "metadata": {},
     "output_type": "execute_result"
    }
   ],
   "source": [
    "svc_best = SVC(C= 10, degree=3, kernel= 'poly', probability=True)\n",
    "svc_best.fit(X_train.loc[:, X_train.columns != 'PassengerId'],y_train)\n",
    "\n",
    "y_pred_best = svc_best.predict(X_test.loc[:, X_test.columns != 'PassengerId'])\n",
    "accuracy_score(y_pred_best, y_test)"
   ],
   "metadata": {
    "collapsed": false,
    "pycharm": {
     "name": "#%%\n"
    }
   }
  },
  {
   "cell_type": "code",
   "execution_count": 103,
   "outputs": [
    {
     "name": "stdout",
     "output_type": "stream",
     "text": [
      "Fitting 5 folds for each of 10 candidates, totalling 50 fits\n",
      "Random Forest\n",
      "Best Score: 0.8360387096774193\n",
      "Best Parameters: {'n_estimators': 100, 'min_samples_split': 5, 'min_samples_leaf': 4, 'max_features': 'auto', 'max_depth': 20, 'bootstrap': False}\n"
     ]
    }
   ],
   "source": [
    "# very long to perform\n",
    "clf_rf = RandomizedSearchCV(rf_g, param_distributions = param_grid_rf, cv = 5, verbose = True, n_jobs = -1)\n",
    "best_clf_rf = clf_rf.fit(X_train.loc[:, X_train.columns != 'PassengerId'],y_train)\n",
    "clf_performance(best_clf_rf,'Random Forest')"
   ],
   "metadata": {
    "collapsed": false,
    "pycharm": {
     "name": "#%%\n"
    }
   }
  },
  {
   "cell_type": "code",
   "execution_count": 112,
   "outputs": [
    {
     "data": {
      "text/plain": "0.8014981273408239"
     },
     "execution_count": 112,
     "metadata": {},
     "output_type": "execute_result"
    }
   ],
   "source": [
    "from sklearn.ensemble import RandomForestClassifier\n",
    "\n",
    "rf_best = RandomForestClassifier(bootstrap= False, max_depth= 20, max_features= 'auto', min_samples_leaf= 4, min_samples_split= 5, n_estimators= 100)\n",
    "rf_best.fit(X_train.loc[:, X_train.columns != 'PassengerId'],y_train)\n",
    "pred_rf_best = rf_best.predict(X_test.loc[:, X_test.columns != 'PassengerId'])\n",
    "accuracy_score(pred_rf_best, y_test)"
   ],
   "metadata": {
    "collapsed": false,
    "pycharm": {
     "name": "#%%\n"
    }
   }
  },
  {
   "cell_type": "code",
   "execution_count": 105,
   "outputs": [
    {
     "name": "stdout",
     "output_type": "stream",
     "text": [
      "Fitting 5 folds for each of 10 candidates, totalling 50 fits\n"
     ]
    },
    {
     "name": "stderr",
     "output_type": "stream",
     "text": [
      "C:\\Users\\39320\\Desktop\\myProjects_python\\Titanic\\venvimg\\lib\\site-packages\\sklearn\\model_selection\\_validation.py:372: FitFailedWarning: \n",
      "30 fits failed out of a total of 50.\n",
      "The score on these train-test partitions for these parameters will be set to nan.\n",
      "If these failures are not expected, you can try to debug them by setting error_score='raise'.\n",
      "\n",
      "Below are more details about the failures:\n",
      "--------------------------------------------------------------------------------\n",
      "20 fits failed with the following error:\n",
      "Traceback (most recent call last):\n",
      "  File \"C:\\Users\\39320\\Desktop\\myProjects_python\\Titanic\\venvimg\\lib\\site-packages\\sklearn\\model_selection\\_validation.py\", line 680, in _fit_and_score\n",
      "    estimator.fit(X_train, y_train, **fit_params)\n",
      "  File \"C:\\Users\\39320\\Desktop\\myProjects_python\\Titanic\\venvimg\\lib\\site-packages\\xgboost\\core.py\", line 532, in inner_f\n",
      "    return f(**kwargs)\n",
      "  File \"C:\\Users\\39320\\Desktop\\myProjects_python\\Titanic\\venvimg\\lib\\site-packages\\xgboost\\sklearn.py\", line 1400, in fit\n",
      "    self._Booster = train(\n",
      "  File \"C:\\Users\\39320\\Desktop\\myProjects_python\\Titanic\\venvimg\\lib\\site-packages\\xgboost\\core.py\", line 532, in inner_f\n",
      "    return f(**kwargs)\n",
      "  File \"C:\\Users\\39320\\Desktop\\myProjects_python\\Titanic\\venvimg\\lib\\site-packages\\xgboost\\training.py\", line 181, in train\n",
      "    bst.update(dtrain, i, obj)\n",
      "  File \"C:\\Users\\39320\\Desktop\\myProjects_python\\Titanic\\venvimg\\lib\\site-packages\\xgboost\\core.py\", line 1733, in update\n",
      "    _check_call(_LIB.XGBoosterUpdateOneIter(self.handle,\n",
      "  File \"C:\\Users\\39320\\Desktop\\myProjects_python\\Titanic\\venvimg\\lib\\site-packages\\xgboost\\core.py\", line 203, in _check_call\n",
      "    raise XGBoostError(py_str(_LIB.XGBGetLastError()))\n",
      "xgboost.core.XGBoostError: [16:51:44] C:/Users/Administrator/workspace/xgboost-win64_release_1.6.0/src/tree/updater_colmaker.cc:226: Check failed: param_.sampling_method == TrainParam::kUniform (1 vs. 0) : Only uniform sampling is supported, gradient-based sampling is only support by GPU Hist.\n",
      "\n",
      "--------------------------------------------------------------------------------\n",
      "10 fits failed with the following error:\n",
      "Traceback (most recent call last):\n",
      "  File \"C:\\Users\\39320\\Desktop\\myProjects_python\\Titanic\\venvimg\\lib\\site-packages\\sklearn\\model_selection\\_validation.py\", line 680, in _fit_and_score\n",
      "    estimator.fit(X_train, y_train, **fit_params)\n",
      "  File \"C:\\Users\\39320\\Desktop\\myProjects_python\\Titanic\\venvimg\\lib\\site-packages\\xgboost\\core.py\", line 532, in inner_f\n",
      "    return f(**kwargs)\n",
      "  File \"C:\\Users\\39320\\Desktop\\myProjects_python\\Titanic\\venvimg\\lib\\site-packages\\xgboost\\sklearn.py\", line 1400, in fit\n",
      "    self._Booster = train(\n",
      "  File \"C:\\Users\\39320\\Desktop\\myProjects_python\\Titanic\\venvimg\\lib\\site-packages\\xgboost\\core.py\", line 532, in inner_f\n",
      "    return f(**kwargs)\n",
      "  File \"C:\\Users\\39320\\Desktop\\myProjects_python\\Titanic\\venvimg\\lib\\site-packages\\xgboost\\training.py\", line 181, in train\n",
      "    bst.update(dtrain, i, obj)\n",
      "  File \"C:\\Users\\39320\\Desktop\\myProjects_python\\Titanic\\venvimg\\lib\\site-packages\\xgboost\\core.py\", line 1733, in update\n",
      "    _check_call(_LIB.XGBoosterUpdateOneIter(self.handle,\n",
      "  File \"C:\\Users\\39320\\Desktop\\myProjects_python\\Titanic\\venvimg\\lib\\site-packages\\xgboost\\core.py\", line 203, in _check_call\n",
      "    raise XGBoostError(py_str(_LIB.XGBGetLastError()))\n",
      "xgboost.core.XGBoostError: [16:51:45] C:/Users/Administrator/workspace/xgboost-win64_release_1.6.0/src/tree/updater_colmaker.cc:226: Check failed: param_.sampling_method == TrainParam::kUniform (1 vs. 0) : Only uniform sampling is supported, gradient-based sampling is only support by GPU Hist.\n",
      "\n",
      "  warnings.warn(some_fits_failed_message, FitFailedWarning)\n",
      "C:\\Users\\39320\\Desktop\\myProjects_python\\Titanic\\venvimg\\lib\\site-packages\\sklearn\\model_selection\\_search.py:969: UserWarning: One or more of the test scores are non-finite: [       nan 0.6447871         nan        nan        nan 0.77967742\n",
      " 0.78772903        nan 0.79254194        nan]\n",
      "  warnings.warn(\n"
     ]
    },
    {
     "name": "stdout",
     "output_type": "stream",
     "text": [
      "XGB\n",
      "Best Score: 0.792541935483871\n",
      "Best Parameters: {'subsample': 0.5, 'sampling_method': 'uniform', 'reg_lambda': 1, 'reg_alpha': 0.5, 'n_estimators': 500, 'min_child_weight': 0.1, 'max_depth': 15, 'learning_rate': 0.3, 'gamma': 10, 'colsample_bytree': 0.2}\n"
     ]
    }
   ],
   "source": [
    "clf_xgb = RandomizedSearchCV(xgb_g, param_distributions = param_grid_xgb, cv = 5, verbose = True, n_jobs = -1)\n",
    "best_clf_xgb = clf_xgb.fit(X_train.loc[:, X_train.columns != 'PassengerId'],y_train)\n",
    "clf_performance(best_clf_xgb,'XGB')"
   ],
   "metadata": {
    "collapsed": false,
    "pycharm": {
     "name": "#%%\n"
    }
   }
  },
  {
   "cell_type": "code",
   "execution_count": 119,
   "outputs": [
    {
     "name": "stdout",
     "output_type": "stream",
     "text": [
      "[16:54:52] WARNING: C:/Users/Administrator/workspace/xgboost-win64_release_1.6.0/src/learner.cc:627: \n",
      "Parameters: { \"colsample_bytre\" } might not be used.\n",
      "\n",
      "  This could be a false alarm, with some parameters getting used by language bindings but\n",
      "  then being mistakenly passed down to XGBoost core, or some parameter actually being used\n",
      "  but getting flagged wrongly here. Please open an issue if you find any such cases.\n",
      "\n",
      "\n"
     ]
    },
    {
     "data": {
      "text/plain": "0.8164794007490637"
     },
     "execution_count": 119,
     "metadata": {},
     "output_type": "execute_result"
    }
   ],
   "source": [
    "xgb_best = XGBClassifier(colsample_bytre= 0.2, gamma= 10, learning_rate= 0.3, max_depth= 15, min_child_weight= 0.1, n_estimators= 500, reg_alpha= 0.5, reg_lambda= 1, sampling_method= 'uniform', subsample= 0.5)\n",
    "xgb_best.fit(X_train.loc[:, X_train.columns != 'PassengerId'],y_train)\n",
    "\n",
    "y_pred_best_xgb = xgb_best.predict(X_test.loc[:, X_test.columns != 'PassengerId'])\n",
    "accuracy_score(y_pred_best_xgb, y_test)"
   ],
   "metadata": {
    "collapsed": false,
    "pycharm": {
     "name": "#%%\n"
    }
   }
  },
  {
   "cell_type": "code",
   "execution_count": 120,
   "outputs": [
    {
     "name": "stdout",
     "output_type": "stream",
     "text": [
      "[16:54:54] WARNING: C:/Users/Administrator/workspace/xgboost-win64_release_1.6.0/src/learner.cc:627: \n",
      "Parameters: { \"colsample_bytre\" } might not be used.\n",
      "\n",
      "  This could be a false alarm, with some parameters getting used by language bindings but\n",
      "  then being mistakenly passed down to XGBoost core, or some parameter actually being used\n",
      "  but getting flagged wrongly here. Please open an issue if you find any such cases.\n",
      "\n",
      "\n"
     ]
    },
    {
     "data": {
      "text/plain": "0.8202247191011236"
     },
     "execution_count": 120,
     "metadata": {},
     "output_type": "execute_result"
    }
   ],
   "source": [
    "voting_clf_best = VotingClassifier(estimators = [('rf',rf_best),('svc',svc_best), ('xgb', xgb_best)], voting = 'soft', weights=[2,2,3])\n",
    "voting_clf_best.fit(X_train.loc[:, X_train.columns != 'PassengerId'],y_train)\n",
    "p_v_best = voting_clf_best.predict(X_test.loc[:, X_test.columns != 'PassengerId'])\n",
    "accuracy_score(p_v_best, y_test)"
   ],
   "metadata": {
    "collapsed": false,
    "pycharm": {
     "name": "#%%\n"
    }
   }
  },
  {
   "cell_type": "code",
   "execution_count": 121,
   "outputs": [
    {
     "name": "stdout",
     "output_type": "stream",
     "text": [
      "[16:54:55] WARNING: C:/Users/Administrator/workspace/xgboost-win64_release_1.6.0/src/learner.cc:627: \n",
      "Parameters: { \"colsample_bytre\" } might not be used.\n",
      "\n",
      "  This could be a false alarm, with some parameters getting used by language bindings but\n",
      "  then being mistakenly passed down to XGBoost core, or some parameter actually being used\n",
      "  but getting flagged wrongly here. Please open an issue if you find any such cases.\n",
      "\n",
      "\n",
      "[16:54:56] WARNING: C:/Users/Administrator/workspace/xgboost-win64_release_1.6.0/src/learner.cc:627: \n",
      "Parameters: { \"colsample_bytre\" } might not be used.\n",
      "\n",
      "  This could be a false alarm, with some parameters getting used by language bindings but\n",
      "  then being mistakenly passed down to XGBoost core, or some parameter actually being used\n",
      "  but getting flagged wrongly here. Please open an issue if you find any such cases.\n",
      "\n",
      "\n"
     ]
    },
    {
     "data": {
      "text/plain": "VotingClassifier(estimators=[('rf',\n                              RandomForestClassifier(bootstrap=False,\n                                                     max_depth=20,\n                                                     min_samples_leaf=4,\n                                                     min_samples_split=5)),\n                             ('svc',\n                              SVC(C=10, kernel='poly', probability=True)),\n                             ('xgb',\n                              XGBClassifier(base_score=0.5, booster='gbtree',\n                                            callbacks=None, colsample_bylevel=1,\n                                            colsample_bynode=1,\n                                            colsample_bytre=0.2,\n                                            colsample_bytree=1,\n                                            early_stopping_rounds=None,...\n                                            gpu_id=-1, grow_policy='depthwise',\n                                            importance_type=None,\n                                            interaction_constraints='',\n                                            learning_rate=0.3, max_bin=256,\n                                            max_cat_to_onehot=4,\n                                            max_delta_step=0, max_depth=15,\n                                            max_leaves=0, min_child_weight=0.1,\n                                            missing=nan,\n                                            monotone_constraints='()',\n                                            n_estimators=500, n_jobs=0,\n                                            num_parallel_tree=1,\n                                            predictor='auto', random_state=0,\n                                            reg_alpha=0.5, ...))],\n                 voting='soft', weights=[2, 2, 3])"
     },
     "execution_count": 121,
     "metadata": {},
     "output_type": "execute_result"
    }
   ],
   "source": [
    "svc_best.fit(train.loc[:, train.columns != 'PassengerId'], train_target)\n",
    "xgb_best.fit(train.loc[:, train.columns != 'PassengerId'], train_target)\n",
    "voting_clf_best.fit(train.loc[:, train.columns != 'PassengerId'], train_target)"
   ],
   "metadata": {
    "collapsed": false,
    "pycharm": {
     "name": "#%%\n"
    }
   }
  },
  {
   "cell_type": "code",
   "execution_count": 122,
   "outputs": [],
   "source": [
    "import numpy as np\n",
    "\n",
    "y_hat_svc_best = svc_best.predict(test.loc[:, test.columns != 'PassengerId']).astype(int)\n",
    "y_hat_xgb_best = xgb_best.predict(test.loc[:, test.columns != 'PassengerId']).astype(int)\n",
    "y_hat_voting_clf_best = voting_clf_best.predict(test.loc[:, test.columns != 'PassengerId']).astype(int)"
   ],
   "metadata": {
    "collapsed": false,
    "pycharm": {
     "name": "#%%\n"
    }
   }
  },
  {
   "cell_type": "code",
   "execution_count": 123,
   "outputs": [],
   "source": [
    "final_data = {'PassengerId': test.PassengerId, 'Survived': y_hat_svc_best}\n",
    "submission = pd.DataFrame(data=final_data)\n",
    "\n",
    "final_data_2 = {'PassengerId': test.PassengerId, 'Survived': y_hat_xgb_best}\n",
    "submission_2 = pd.DataFrame(data=final_data_2)\n",
    "\n",
    "final_data_3 = {'PassengerId': test.PassengerId, 'Survived': y_hat_voting_clf_best}\n",
    "submission_3 = pd.DataFrame(data=final_data_3)"
   ],
   "metadata": {
    "collapsed": false,
    "pycharm": {
     "name": "#%%\n"
    }
   }
  },
  {
   "cell_type": "code",
   "execution_count": 124,
   "outputs": [],
   "source": [
    "#prepare submission files\n",
    "submission.to_csv('./submission_simple/submission_svc.csv', index =False)\n",
    "submission_2.to_csv('./submission_simple/submission_xgb.csv',index=False)\n",
    "submission_3.to_csv('./submission_simple/submission_voting.csv', index=False)"
   ],
   "metadata": {
    "collapsed": false,
    "pycharm": {
     "name": "#%%\n"
    }
   }
  },
  {
   "cell_type": "code",
   "execution_count": 111,
   "outputs": [],
   "source": [],
   "metadata": {
    "collapsed": false,
    "pycharm": {
     "name": "#%%\n"
    }
   }
  }
 ],
 "metadata": {
  "kernelspec": {
   "display_name": "Python 3",
   "language": "python",
   "name": "python3"
  },
  "language_info": {
   "codemirror_mode": {
    "name": "ipython",
    "version": 2
   },
   "file_extension": ".py",
   "mimetype": "text/x-python",
   "name": "python",
   "nbconvert_exporter": "python",
   "pygments_lexer": "ipython2",
   "version": "2.7.6"
  }
 },
 "nbformat": 4,
 "nbformat_minor": 0
}